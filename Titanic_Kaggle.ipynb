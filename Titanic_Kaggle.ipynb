{
 "cells": [
  {
   "cell_type": "markdown",
   "metadata": {},
   "source": [
    "# Titanic-Machine Learning from Disaster Analysis and Classification\n",
    "\n",
    "This notebook is my personal project that will discuss the problem of the Titanic Disaster using the Kaggle dataset. I will do some exploration, data analysis, data pre-processing, and build machine learning models from the dataset. I hope that the notebook can be a medium for me to learn more and more."
   ]
  },
  {
   "cell_type": "markdown",
   "metadata": {},
   "source": [
    "## Problem Description and the Objective\n",
    "\n",
    "The sinking of the RMS Titanic is one of the most notorious shipwrecks in history. On April 15, 1912, during her maiden voyage, the Titanic sank after colliding with an iceberg, killing 1502 out of 2224 passengers and crews. This harrowing tragedy shocked the international community and led to better safety regulations for ships.\n",
    "\n",
    "In this problem, we're asked to complete the analysis of what sorts of passengers were likely to survive the tragedy using machine learning. Our job is to predict if a passenger survived the sinking Titanic or not with the help of machine learning."
   ]
  },
  {
   "cell_type": "markdown",
   "metadata": {},
   "source": [
    "## Importing Library and Collecting Data\n",
    "After importing the required modules, let's read train and test data from csv files."
   ]
  },
  {
   "cell_type": "code",
   "execution_count": 1,
   "metadata": {},
   "outputs": [],
   "source": [
    "#Basic modules: data manipulation and linear algebra\n",
    "import pandas as pd\n",
    "import numpy as np\n",
    "#For 2D data visualization\n",
    "import matplotlib.pyplot as plt\n",
    "import seaborn as sns\n",
    "#For regular expression\n",
    "import re\n",
    "\n",
    "#Machine Learning Models\n",
    "from sklearn.linear_model import LogisticRegression\n",
    "from sklearn.ensemble import RandomForestClassifier\n",
    "from sklearn.tree import DecisionTreeClassifier\n",
    "from sklearn.neighbors import KNeighborsClassifier"
   ]
  },
  {
   "cell_type": "code",
   "execution_count": 2,
   "metadata": {},
   "outputs": [],
   "source": [
    "#load the training data and the test data\n",
    "train_data= pd.read_csv(\"train.csv\")\n",
    "test_data= pd.read_csv(\"test.csv\")"
   ]
  },
  {
   "cell_type": "markdown",
   "metadata": {},
   "source": [
    "## Exploratory Data Analysis\n",
    "\n",
    "Before we start to classify, we need to do some exploration of the data. From this process, we can find some insights and do some analysis that will important and may be useful in the later stages."
   ]
  },
  {
   "cell_type": "code",
   "execution_count": 3,
   "metadata": {},
   "outputs": [
    {
     "data": {
      "text/html": [
       "<div>\n",
       "<style scoped>\n",
       "    .dataframe tbody tr th:only-of-type {\n",
       "        vertical-align: middle;\n",
       "    }\n",
       "\n",
       "    .dataframe tbody tr th {\n",
       "        vertical-align: top;\n",
       "    }\n",
       "\n",
       "    .dataframe thead th {\n",
       "        text-align: right;\n",
       "    }\n",
       "</style>\n",
       "<table border=\"1\" class=\"dataframe\">\n",
       "  <thead>\n",
       "    <tr style=\"text-align: right;\">\n",
       "      <th></th>\n",
       "      <th>PassengerId</th>\n",
       "      <th>Survived</th>\n",
       "      <th>Pclass</th>\n",
       "      <th>Name</th>\n",
       "      <th>Sex</th>\n",
       "      <th>Age</th>\n",
       "      <th>SibSp</th>\n",
       "      <th>Parch</th>\n",
       "      <th>Ticket</th>\n",
       "      <th>Fare</th>\n",
       "      <th>Cabin</th>\n",
       "      <th>Embarked</th>\n",
       "    </tr>\n",
       "  </thead>\n",
       "  <tbody>\n",
       "    <tr>\n",
       "      <th>0</th>\n",
       "      <td>1</td>\n",
       "      <td>0</td>\n",
       "      <td>3</td>\n",
       "      <td>Braund, Mr. Owen Harris</td>\n",
       "      <td>male</td>\n",
       "      <td>22.0</td>\n",
       "      <td>1</td>\n",
       "      <td>0</td>\n",
       "      <td>A/5 21171</td>\n",
       "      <td>7.2500</td>\n",
       "      <td>NaN</td>\n",
       "      <td>S</td>\n",
       "    </tr>\n",
       "    <tr>\n",
       "      <th>1</th>\n",
       "      <td>2</td>\n",
       "      <td>1</td>\n",
       "      <td>1</td>\n",
       "      <td>Cumings, Mrs. John Bradley (Florence Briggs Th...</td>\n",
       "      <td>female</td>\n",
       "      <td>38.0</td>\n",
       "      <td>1</td>\n",
       "      <td>0</td>\n",
       "      <td>PC 17599</td>\n",
       "      <td>71.2833</td>\n",
       "      <td>C85</td>\n",
       "      <td>C</td>\n",
       "    </tr>\n",
       "    <tr>\n",
       "      <th>2</th>\n",
       "      <td>3</td>\n",
       "      <td>1</td>\n",
       "      <td>3</td>\n",
       "      <td>Heikkinen, Miss. Laina</td>\n",
       "      <td>female</td>\n",
       "      <td>26.0</td>\n",
       "      <td>0</td>\n",
       "      <td>0</td>\n",
       "      <td>STON/O2. 3101282</td>\n",
       "      <td>7.9250</td>\n",
       "      <td>NaN</td>\n",
       "      <td>S</td>\n",
       "    </tr>\n",
       "    <tr>\n",
       "      <th>3</th>\n",
       "      <td>4</td>\n",
       "      <td>1</td>\n",
       "      <td>1</td>\n",
       "      <td>Futrelle, Mrs. Jacques Heath (Lily May Peel)</td>\n",
       "      <td>female</td>\n",
       "      <td>35.0</td>\n",
       "      <td>1</td>\n",
       "      <td>0</td>\n",
       "      <td>113803</td>\n",
       "      <td>53.1000</td>\n",
       "      <td>C123</td>\n",
       "      <td>S</td>\n",
       "    </tr>\n",
       "    <tr>\n",
       "      <th>4</th>\n",
       "      <td>5</td>\n",
       "      <td>0</td>\n",
       "      <td>3</td>\n",
       "      <td>Allen, Mr. William Henry</td>\n",
       "      <td>male</td>\n",
       "      <td>35.0</td>\n",
       "      <td>0</td>\n",
       "      <td>0</td>\n",
       "      <td>373450</td>\n",
       "      <td>8.0500</td>\n",
       "      <td>NaN</td>\n",
       "      <td>S</td>\n",
       "    </tr>\n",
       "    <tr>\n",
       "      <th>...</th>\n",
       "      <td>...</td>\n",
       "      <td>...</td>\n",
       "      <td>...</td>\n",
       "      <td>...</td>\n",
       "      <td>...</td>\n",
       "      <td>...</td>\n",
       "      <td>...</td>\n",
       "      <td>...</td>\n",
       "      <td>...</td>\n",
       "      <td>...</td>\n",
       "      <td>...</td>\n",
       "      <td>...</td>\n",
       "    </tr>\n",
       "    <tr>\n",
       "      <th>886</th>\n",
       "      <td>887</td>\n",
       "      <td>0</td>\n",
       "      <td>2</td>\n",
       "      <td>Montvila, Rev. Juozas</td>\n",
       "      <td>male</td>\n",
       "      <td>27.0</td>\n",
       "      <td>0</td>\n",
       "      <td>0</td>\n",
       "      <td>211536</td>\n",
       "      <td>13.0000</td>\n",
       "      <td>NaN</td>\n",
       "      <td>S</td>\n",
       "    </tr>\n",
       "    <tr>\n",
       "      <th>887</th>\n",
       "      <td>888</td>\n",
       "      <td>1</td>\n",
       "      <td>1</td>\n",
       "      <td>Graham, Miss. Margaret Edith</td>\n",
       "      <td>female</td>\n",
       "      <td>19.0</td>\n",
       "      <td>0</td>\n",
       "      <td>0</td>\n",
       "      <td>112053</td>\n",
       "      <td>30.0000</td>\n",
       "      <td>B42</td>\n",
       "      <td>S</td>\n",
       "    </tr>\n",
       "    <tr>\n",
       "      <th>888</th>\n",
       "      <td>889</td>\n",
       "      <td>0</td>\n",
       "      <td>3</td>\n",
       "      <td>Johnston, Miss. Catherine Helen \"Carrie\"</td>\n",
       "      <td>female</td>\n",
       "      <td>NaN</td>\n",
       "      <td>1</td>\n",
       "      <td>2</td>\n",
       "      <td>W./C. 6607</td>\n",
       "      <td>23.4500</td>\n",
       "      <td>NaN</td>\n",
       "      <td>S</td>\n",
       "    </tr>\n",
       "    <tr>\n",
       "      <th>889</th>\n",
       "      <td>890</td>\n",
       "      <td>1</td>\n",
       "      <td>1</td>\n",
       "      <td>Behr, Mr. Karl Howell</td>\n",
       "      <td>male</td>\n",
       "      <td>26.0</td>\n",
       "      <td>0</td>\n",
       "      <td>0</td>\n",
       "      <td>111369</td>\n",
       "      <td>30.0000</td>\n",
       "      <td>C148</td>\n",
       "      <td>C</td>\n",
       "    </tr>\n",
       "    <tr>\n",
       "      <th>890</th>\n",
       "      <td>891</td>\n",
       "      <td>0</td>\n",
       "      <td>3</td>\n",
       "      <td>Dooley, Mr. Patrick</td>\n",
       "      <td>male</td>\n",
       "      <td>32.0</td>\n",
       "      <td>0</td>\n",
       "      <td>0</td>\n",
       "      <td>370376</td>\n",
       "      <td>7.7500</td>\n",
       "      <td>NaN</td>\n",
       "      <td>Q</td>\n",
       "    </tr>\n",
       "  </tbody>\n",
       "</table>\n",
       "<p>891 rows × 12 columns</p>\n",
       "</div>"
      ],
      "text/plain": [
       "     PassengerId  Survived  Pclass  \\\n",
       "0              1         0       3   \n",
       "1              2         1       1   \n",
       "2              3         1       3   \n",
       "3              4         1       1   \n",
       "4              5         0       3   \n",
       "..           ...       ...     ...   \n",
       "886          887         0       2   \n",
       "887          888         1       1   \n",
       "888          889         0       3   \n",
       "889          890         1       1   \n",
       "890          891         0       3   \n",
       "\n",
       "                                                  Name     Sex   Age  SibSp  \\\n",
       "0                              Braund, Mr. Owen Harris    male  22.0      1   \n",
       "1    Cumings, Mrs. John Bradley (Florence Briggs Th...  female  38.0      1   \n",
       "2                               Heikkinen, Miss. Laina  female  26.0      0   \n",
       "3         Futrelle, Mrs. Jacques Heath (Lily May Peel)  female  35.0      1   \n",
       "4                             Allen, Mr. William Henry    male  35.0      0   \n",
       "..                                                 ...     ...   ...    ...   \n",
       "886                              Montvila, Rev. Juozas    male  27.0      0   \n",
       "887                       Graham, Miss. Margaret Edith  female  19.0      0   \n",
       "888           Johnston, Miss. Catherine Helen \"Carrie\"  female   NaN      1   \n",
       "889                              Behr, Mr. Karl Howell    male  26.0      0   \n",
       "890                                Dooley, Mr. Patrick    male  32.0      0   \n",
       "\n",
       "     Parch            Ticket     Fare Cabin Embarked  \n",
       "0        0         A/5 21171   7.2500   NaN        S  \n",
       "1        0          PC 17599  71.2833   C85        C  \n",
       "2        0  STON/O2. 3101282   7.9250   NaN        S  \n",
       "3        0            113803  53.1000  C123        S  \n",
       "4        0            373450   8.0500   NaN        S  \n",
       "..     ...               ...      ...   ...      ...  \n",
       "886      0            211536  13.0000   NaN        S  \n",
       "887      0            112053  30.0000   B42        S  \n",
       "888      2        W./C. 6607  23.4500   NaN        S  \n",
       "889      0            111369  30.0000  C148        C  \n",
       "890      0            370376   7.7500   NaN        Q  \n",
       "\n",
       "[891 rows x 12 columns]"
      ]
     },
     "execution_count": 3,
     "metadata": {},
     "output_type": "execute_result"
    }
   ],
   "source": [
    "#View the training data\n",
    "train_data"
   ]
  },
  {
   "cell_type": "markdown",
   "metadata": {},
   "source": [
    "After opening the dataset, we know that:\n",
    "1. There are 891 rows and 12 columns.\n",
    "2. The columns are PassengerId, Survived, Pclass, Name, Sex, Age, SibSp, Parch, Ticket, Fare, Cabin, and Embarked."
   ]
  },
  {
   "cell_type": "code",
   "execution_count": 4,
   "metadata": {},
   "outputs": [
    {
     "name": "stdout",
     "output_type": "stream",
     "text": [
      "<class 'pandas.core.frame.DataFrame'>\n",
      "RangeIndex: 891 entries, 0 to 890\n",
      "Data columns (total 12 columns):\n",
      " #   Column       Non-Null Count  Dtype  \n",
      "---  ------       --------------  -----  \n",
      " 0   PassengerId  891 non-null    int64  \n",
      " 1   Survived     891 non-null    int64  \n",
      " 2   Pclass       891 non-null    int64  \n",
      " 3   Name         891 non-null    object \n",
      " 4   Sex          891 non-null    object \n",
      " 5   Age          714 non-null    float64\n",
      " 6   SibSp        891 non-null    int64  \n",
      " 7   Parch        891 non-null    int64  \n",
      " 8   Ticket       891 non-null    object \n",
      " 9   Fare         891 non-null    float64\n",
      " 10  Cabin        204 non-null    object \n",
      " 11  Embarked     889 non-null    object \n",
      "dtypes: float64(2), int64(5), object(5)\n",
      "memory usage: 83.7+ KB\n"
     ]
    }
   ],
   "source": [
    "#See the information of training data\n",
    "train_data.info()"
   ]
  },
  {
   "cell_type": "markdown",
   "metadata": {},
   "source": [
    "We can see the information about the training data:\n",
    "1. From 12 columns, there are 3 data types: 5 columns are integer, 5 columns are object, and 2 columns are float.\n",
    "2. We know that the 12 columns are divided by 11 columns called \"features\" and 1 column called \"target\".\n",
    "3. The \"Survived\" column is the \"target\" and the others are the \"features\"."
   ]
  },
  {
   "cell_type": "code",
   "execution_count": 5,
   "metadata": {},
   "outputs": [
    {
     "data": {
      "text/html": [
       "<div>\n",
       "<style scoped>\n",
       "    .dataframe tbody tr th:only-of-type {\n",
       "        vertical-align: middle;\n",
       "    }\n",
       "\n",
       "    .dataframe tbody tr th {\n",
       "        vertical-align: top;\n",
       "    }\n",
       "\n",
       "    .dataframe thead th {\n",
       "        text-align: right;\n",
       "    }\n",
       "</style>\n",
       "<table border=\"1\" class=\"dataframe\">\n",
       "  <thead>\n",
       "    <tr style=\"text-align: right;\">\n",
       "      <th></th>\n",
       "      <th>PassengerId</th>\n",
       "      <th>Survived</th>\n",
       "      <th>Pclass</th>\n",
       "      <th>Age</th>\n",
       "      <th>SibSp</th>\n",
       "      <th>Parch</th>\n",
       "      <th>Fare</th>\n",
       "    </tr>\n",
       "  </thead>\n",
       "  <tbody>\n",
       "    <tr>\n",
       "      <th>count</th>\n",
       "      <td>891.000000</td>\n",
       "      <td>891.000000</td>\n",
       "      <td>891.000000</td>\n",
       "      <td>714.000000</td>\n",
       "      <td>891.000000</td>\n",
       "      <td>891.000000</td>\n",
       "      <td>891.000000</td>\n",
       "    </tr>\n",
       "    <tr>\n",
       "      <th>mean</th>\n",
       "      <td>446.000000</td>\n",
       "      <td>0.383838</td>\n",
       "      <td>2.308642</td>\n",
       "      <td>29.699118</td>\n",
       "      <td>0.523008</td>\n",
       "      <td>0.381594</td>\n",
       "      <td>32.204208</td>\n",
       "    </tr>\n",
       "    <tr>\n",
       "      <th>std</th>\n",
       "      <td>257.353842</td>\n",
       "      <td>0.486592</td>\n",
       "      <td>0.836071</td>\n",
       "      <td>14.526497</td>\n",
       "      <td>1.102743</td>\n",
       "      <td>0.806057</td>\n",
       "      <td>49.693429</td>\n",
       "    </tr>\n",
       "    <tr>\n",
       "      <th>min</th>\n",
       "      <td>1.000000</td>\n",
       "      <td>0.000000</td>\n",
       "      <td>1.000000</td>\n",
       "      <td>0.420000</td>\n",
       "      <td>0.000000</td>\n",
       "      <td>0.000000</td>\n",
       "      <td>0.000000</td>\n",
       "    </tr>\n",
       "    <tr>\n",
       "      <th>25%</th>\n",
       "      <td>223.500000</td>\n",
       "      <td>0.000000</td>\n",
       "      <td>2.000000</td>\n",
       "      <td>20.125000</td>\n",
       "      <td>0.000000</td>\n",
       "      <td>0.000000</td>\n",
       "      <td>7.910400</td>\n",
       "    </tr>\n",
       "    <tr>\n",
       "      <th>50%</th>\n",
       "      <td>446.000000</td>\n",
       "      <td>0.000000</td>\n",
       "      <td>3.000000</td>\n",
       "      <td>28.000000</td>\n",
       "      <td>0.000000</td>\n",
       "      <td>0.000000</td>\n",
       "      <td>14.454200</td>\n",
       "    </tr>\n",
       "    <tr>\n",
       "      <th>75%</th>\n",
       "      <td>668.500000</td>\n",
       "      <td>1.000000</td>\n",
       "      <td>3.000000</td>\n",
       "      <td>38.000000</td>\n",
       "      <td>1.000000</td>\n",
       "      <td>0.000000</td>\n",
       "      <td>31.000000</td>\n",
       "    </tr>\n",
       "    <tr>\n",
       "      <th>max</th>\n",
       "      <td>891.000000</td>\n",
       "      <td>1.000000</td>\n",
       "      <td>3.000000</td>\n",
       "      <td>80.000000</td>\n",
       "      <td>8.000000</td>\n",
       "      <td>6.000000</td>\n",
       "      <td>512.329200</td>\n",
       "    </tr>\n",
       "  </tbody>\n",
       "</table>\n",
       "</div>"
      ],
      "text/plain": [
       "       PassengerId    Survived      Pclass         Age       SibSp  \\\n",
       "count   891.000000  891.000000  891.000000  714.000000  891.000000   \n",
       "mean    446.000000    0.383838    2.308642   29.699118    0.523008   \n",
       "std     257.353842    0.486592    0.836071   14.526497    1.102743   \n",
       "min       1.000000    0.000000    1.000000    0.420000    0.000000   \n",
       "25%     223.500000    0.000000    2.000000   20.125000    0.000000   \n",
       "50%     446.000000    0.000000    3.000000   28.000000    0.000000   \n",
       "75%     668.500000    1.000000    3.000000   38.000000    1.000000   \n",
       "max     891.000000    1.000000    3.000000   80.000000    8.000000   \n",
       "\n",
       "            Parch        Fare  \n",
       "count  891.000000  891.000000  \n",
       "mean     0.381594   32.204208  \n",
       "std      0.806057   49.693429  \n",
       "min      0.000000    0.000000  \n",
       "25%      0.000000    7.910400  \n",
       "50%      0.000000   14.454200  \n",
       "75%      0.000000   31.000000  \n",
       "max      6.000000  512.329200  "
      ]
     },
     "execution_count": 5,
     "metadata": {},
     "output_type": "execute_result"
    }
   ],
   "source": [
    "#Describe the training data\n",
    "train_data.describe()"
   ]
  },
  {
   "cell_type": "markdown",
   "metadata": {},
   "source": [
    "Different from the information, we can also know how the training data being described. The information we got is mostly about statistics information. From the data, we can know that:\n",
    "1. The amount of the data, the mean, the standard deviation, and many more.\n",
    "2. There is a \"feature\" that has null data: Age column.\n",
    "3. The data that has been described is the numerical data, the categorical data is not displayed."
   ]
  },
  {
   "cell_type": "code",
   "execution_count": 6,
   "metadata": {},
   "outputs": [
    {
     "data": {
      "text/html": [
       "<div>\n",
       "<style scoped>\n",
       "    .dataframe tbody tr th:only-of-type {\n",
       "        vertical-align: middle;\n",
       "    }\n",
       "\n",
       "    .dataframe tbody tr th {\n",
       "        vertical-align: top;\n",
       "    }\n",
       "\n",
       "    .dataframe thead th {\n",
       "        text-align: right;\n",
       "    }\n",
       "</style>\n",
       "<table border=\"1\" class=\"dataframe\">\n",
       "  <thead>\n",
       "    <tr style=\"text-align: right;\">\n",
       "      <th></th>\n",
       "      <th>missing_values (#)</th>\n",
       "      <th>missing_values (%)</th>\n",
       "      <th>description</th>\n",
       "    </tr>\n",
       "  </thead>\n",
       "  <tbody>\n",
       "    <tr>\n",
       "      <th>PassengerId</th>\n",
       "      <td>0</td>\n",
       "      <td>0.00</td>\n",
       "      <td>incrementing order of passengers</td>\n",
       "    </tr>\n",
       "    <tr>\n",
       "      <th>Survived</th>\n",
       "      <td>0</td>\n",
       "      <td>0.00</td>\n",
       "      <td>Survival (0 = No; 1 = Yes)</td>\n",
       "    </tr>\n",
       "    <tr>\n",
       "      <th>Pclass</th>\n",
       "      <td>0</td>\n",
       "      <td>0.00</td>\n",
       "      <td>indication of economical status</td>\n",
       "    </tr>\n",
       "    <tr>\n",
       "      <th>Name</th>\n",
       "      <td>0</td>\n",
       "      <td>0.00</td>\n",
       "      <td>Name of passenger</td>\n",
       "    </tr>\n",
       "    <tr>\n",
       "      <th>Sex</th>\n",
       "      <td>0</td>\n",
       "      <td>0.00</td>\n",
       "      <td>male or female</td>\n",
       "    </tr>\n",
       "    <tr>\n",
       "      <th>Age</th>\n",
       "      <td>177</td>\n",
       "      <td>19.87</td>\n",
       "      <td>Age ranging from 0 to 82</td>\n",
       "    </tr>\n",
       "    <tr>\n",
       "      <th>SibSp</th>\n",
       "      <td>0</td>\n",
       "      <td>0.00</td>\n",
       "      <td>Number of siblings or spouces</td>\n",
       "    </tr>\n",
       "    <tr>\n",
       "      <th>Parch</th>\n",
       "      <td>0</td>\n",
       "      <td>0.00</td>\n",
       "      <td>Number of parents or children</td>\n",
       "    </tr>\n",
       "    <tr>\n",
       "      <th>Ticket</th>\n",
       "      <td>0</td>\n",
       "      <td>0.00</td>\n",
       "      <td>Ticket number</td>\n",
       "    </tr>\n",
       "    <tr>\n",
       "      <th>Fare</th>\n",
       "      <td>0</td>\n",
       "      <td>0.00</td>\n",
       "      <td>Price of ticket</td>\n",
       "    </tr>\n",
       "    <tr>\n",
       "      <th>Cabin</th>\n",
       "      <td>687</td>\n",
       "      <td>77.10</td>\n",
       "      <td>Cabin number</td>\n",
       "    </tr>\n",
       "    <tr>\n",
       "      <th>Embarked</th>\n",
       "      <td>2</td>\n",
       "      <td>0.22</td>\n",
       "      <td>Embarkation port (Southampton, Cherbourg, Quee...</td>\n",
       "    </tr>\n",
       "  </tbody>\n",
       "</table>\n",
       "</div>"
      ],
      "text/plain": [
       "             missing_values (#)  missing_values (%)  \\\n",
       "PassengerId                   0                0.00   \n",
       "Survived                      0                0.00   \n",
       "Pclass                        0                0.00   \n",
       "Name                          0                0.00   \n",
       "Sex                           0                0.00   \n",
       "Age                         177               19.87   \n",
       "SibSp                         0                0.00   \n",
       "Parch                         0                0.00   \n",
       "Ticket                        0                0.00   \n",
       "Fare                          0                0.00   \n",
       "Cabin                       687               77.10   \n",
       "Embarked                      2                0.22   \n",
       "\n",
       "                                                   description  \n",
       "PassengerId                   incrementing order of passengers  \n",
       "Survived                            Survival (0 = No; 1 = Yes)  \n",
       "Pclass                         indication of economical status  \n",
       "Name                                         Name of passenger  \n",
       "Sex                                             male or female  \n",
       "Age                                   Age ranging from 0 to 82  \n",
       "SibSp                            Number of siblings or spouces  \n",
       "Parch                            Number of parents or children  \n",
       "Ticket                                           Ticket number  \n",
       "Fare                                           Price of ticket  \n",
       "Cabin                                             Cabin number  \n",
       "Embarked     Embarkation port (Southampton, Cherbourg, Quee...  "
      ]
     },
     "metadata": {},
     "output_type": "display_data"
    }
   ],
   "source": [
    "#Check the missing value of the training data\n",
    "description = pd.Series(['incrementing order of passengers',\n",
    "                         'Survival (0 = No; 1 = Yes)',\n",
    "                         'indication of economical status',\n",
    "                         'Name of passenger',\n",
    "                         'male or female',\n",
    "                         'Age ranging from 0 to 82',\n",
    "                         'Number of siblings or spouces', \n",
    "                         'Number of parents or children', \n",
    "                         'Ticket number', \n",
    "                         'Price of ticket',\n",
    "                         'Cabin number', \n",
    "                         'Embarkation port (Southampton, Cherbourg, Queenstown)'], index= train_data.columns)\n",
    "\n",
    "missing_value_df = pd.DataFrame({'missing_values (#)': train_data.isnull().sum(),\n",
    "                                 'missing_values (%)': round(train_data.isnull().sum() * 100 / len(train_data), 2),\n",
    "                                 'description': description\n",
    "                                }\n",
    "                               )\n",
    "display(missing_value_df)"
   ]
  },
  {
   "cell_type": "markdown",
   "metadata": {},
   "source": [
    "The data displayed above is about the \"features\" that have null data, including the categorical data, on the training data. From the data frame, we can see:\n",
    "1. There are 177 missing values (19.87%) on the Age column.\n",
    "2. There are 687 missing values (77.1%) on the Cabin column.\n",
    "3. There are 2 missing values (0.22%) on the Embarked column.\n",
    "4. We can also know the means of every \"feature\" from the description."
   ]
  },
  {
   "cell_type": "code",
   "execution_count": 7,
   "metadata": {},
   "outputs": [
    {
     "data": {
      "text/html": [
       "<div>\n",
       "<style scoped>\n",
       "    .dataframe tbody tr th:only-of-type {\n",
       "        vertical-align: middle;\n",
       "    }\n",
       "\n",
       "    .dataframe tbody tr th {\n",
       "        vertical-align: top;\n",
       "    }\n",
       "\n",
       "    .dataframe thead th {\n",
       "        text-align: right;\n",
       "    }\n",
       "</style>\n",
       "<table border=\"1\" class=\"dataframe\">\n",
       "  <thead>\n",
       "    <tr style=\"text-align: right;\">\n",
       "      <th></th>\n",
       "      <th>missing_values (#)</th>\n",
       "      <th>missing_values (%)</th>\n",
       "      <th>description</th>\n",
       "    </tr>\n",
       "  </thead>\n",
       "  <tbody>\n",
       "    <tr>\n",
       "      <th>PassengerId</th>\n",
       "      <td>0</td>\n",
       "      <td>0.00</td>\n",
       "      <td>incrementing order of passengers</td>\n",
       "    </tr>\n",
       "    <tr>\n",
       "      <th>Pclass</th>\n",
       "      <td>0</td>\n",
       "      <td>0.00</td>\n",
       "      <td>indication of economical status</td>\n",
       "    </tr>\n",
       "    <tr>\n",
       "      <th>Name</th>\n",
       "      <td>0</td>\n",
       "      <td>0.00</td>\n",
       "      <td>Name of passenger</td>\n",
       "    </tr>\n",
       "    <tr>\n",
       "      <th>Sex</th>\n",
       "      <td>0</td>\n",
       "      <td>0.00</td>\n",
       "      <td>male or female</td>\n",
       "    </tr>\n",
       "    <tr>\n",
       "      <th>Age</th>\n",
       "      <td>86</td>\n",
       "      <td>20.57</td>\n",
       "      <td>Age ranging from 0 to 82</td>\n",
       "    </tr>\n",
       "    <tr>\n",
       "      <th>SibSp</th>\n",
       "      <td>0</td>\n",
       "      <td>0.00</td>\n",
       "      <td>Number of siblings or spouces</td>\n",
       "    </tr>\n",
       "    <tr>\n",
       "      <th>Parch</th>\n",
       "      <td>0</td>\n",
       "      <td>0.00</td>\n",
       "      <td>Number of parents or children</td>\n",
       "    </tr>\n",
       "    <tr>\n",
       "      <th>Ticket</th>\n",
       "      <td>0</td>\n",
       "      <td>0.00</td>\n",
       "      <td>Ticket number</td>\n",
       "    </tr>\n",
       "    <tr>\n",
       "      <th>Fare</th>\n",
       "      <td>1</td>\n",
       "      <td>0.24</td>\n",
       "      <td>Price of ticket</td>\n",
       "    </tr>\n",
       "    <tr>\n",
       "      <th>Cabin</th>\n",
       "      <td>327</td>\n",
       "      <td>78.23</td>\n",
       "      <td>Cabin number</td>\n",
       "    </tr>\n",
       "    <tr>\n",
       "      <th>Embarked</th>\n",
       "      <td>0</td>\n",
       "      <td>0.00</td>\n",
       "      <td>Embarkation port (Southampton, Cherbourg, Quee...</td>\n",
       "    </tr>\n",
       "  </tbody>\n",
       "</table>\n",
       "</div>"
      ],
      "text/plain": [
       "             missing_values (#)  missing_values (%)  \\\n",
       "PassengerId                   0                0.00   \n",
       "Pclass                        0                0.00   \n",
       "Name                          0                0.00   \n",
       "Sex                           0                0.00   \n",
       "Age                          86               20.57   \n",
       "SibSp                         0                0.00   \n",
       "Parch                         0                0.00   \n",
       "Ticket                        0                0.00   \n",
       "Fare                          1                0.24   \n",
       "Cabin                       327               78.23   \n",
       "Embarked                      0                0.00   \n",
       "\n",
       "                                                   description  \n",
       "PassengerId                   incrementing order of passengers  \n",
       "Pclass                         indication of economical status  \n",
       "Name                                         Name of passenger  \n",
       "Sex                                             male or female  \n",
       "Age                                   Age ranging from 0 to 82  \n",
       "SibSp                            Number of siblings or spouces  \n",
       "Parch                            Number of parents or children  \n",
       "Ticket                                           Ticket number  \n",
       "Fare                                           Price of ticket  \n",
       "Cabin                                             Cabin number  \n",
       "Embarked     Embarkation port (Southampton, Cherbourg, Quee...  "
      ]
     },
     "metadata": {},
     "output_type": "display_data"
    }
   ],
   "source": [
    "#Checking the missing value of the test data\n",
    "description = pd.Series(['incrementing order of passengers',\n",
    "                         'indication of economical status',\n",
    "                         'Name of passenger',\n",
    "                         'male or female',\n",
    "                         'Age ranging from 0 to 82',\n",
    "                         'Number of siblings or spouces', \n",
    "                         'Number of parents or children', \n",
    "                         'Ticket number', \n",
    "                         'Price of ticket',\n",
    "                         'Cabin number', \n",
    "                         'Embarkation port (Southampton, Cherbourg, Queenstown)'], index= test_data.columns)\n",
    "\n",
    "missing_value_df = pd.DataFrame({'missing_values (#)': test_data.isnull().sum(),\n",
    "                                 'missing_values (%)': round(test_data.isnull().sum() * 100 / len(test_data), 2),\n",
    "                                 'description': description\n",
    "                                }\n",
    "                               )\n",
    "display(missing_value_df)"
   ]
  },
  {
   "cell_type": "markdown",
   "metadata": {},
   "source": [
    "Different from the training data, the data displayed above is about the \"features\" that have null data, including the categorical data, on the test data. From the data frame, we can see:\n",
    "1. There are 86 missing values (20.57%) on the Age column.\n",
    "2. There is 1 missing value (0.24%) on the Fare column.\n",
    "3. There are 327 missing values (78.23%) on the Cabin column.\n",
    "4. We can also know the means of every \"feature\" from the description."
   ]
  },
  {
   "cell_type": "markdown",
   "metadata": {},
   "source": [
    "### Some Conlusions\n",
    "From the information we got, we can note a few things:\n",
    "1. We need to convert a lot of features into numeric one, so that the machine learning algorithms can process them.\n",
    "2. We can see that the features have widely different ranges, that we will need to convert into roughly the same scale.\n",
    "3. We can also spot some more features, that contain missing values (NaN = not a number), that we need to deal with."
   ]
  },
  {
   "cell_type": "code",
   "execution_count": 8,
   "metadata": {},
   "outputs": [
    {
     "data": {
      "text/plain": [
       "male      577\n",
       "female    314\n",
       "Name: Sex, dtype: int64"
      ]
     },
     "execution_count": 8,
     "metadata": {},
     "output_type": "execute_result"
    }
   ],
   "source": [
    "#The number of passenger based on the gender\n",
    "train_data.Sex.value_counts()"
   ]
  },
  {
   "cell_type": "markdown",
   "metadata": {},
   "source": [
    "Before we make some exploration, I think the most important information we should know is how many passengers on the Titanic. Based on the training data, we know that there are 891 passengers: 577 male passengers and 314 female passengers."
   ]
  },
  {
   "cell_type": "code",
   "execution_count": 9,
   "metadata": {},
   "outputs": [
    {
     "data": {
      "text/plain": [
       "0    549\n",
       "1    342\n",
       "Name: Survived, dtype: int64"
      ]
     },
     "execution_count": 9,
     "metadata": {},
     "output_type": "execute_result"
    }
   ],
   "source": [
    "#The survived status from the Titanic passenger\n",
    "train_data.Survived.value_counts()"
   ]
  },
  {
   "cell_type": "markdown",
   "metadata": {},
   "source": [
    "From 891 passengers, there are 549 people died and 342 people survived."
   ]
  },
  {
   "cell_type": "code",
   "execution_count": 10,
   "metadata": {},
   "outputs": [
    {
     "data": {
      "image/png": "[encoded data removed]",
      "text/plain": [
       "<Figure size 864x360 with 2 Axes>"
      ]
     },
     "metadata": {
      "needs_background": "light"
     },
     "output_type": "display_data"
    }
   ],
   "source": [
    "#Looking for the survival rate info\n",
    "fig, axes = plt.subplots(1, 2, figsize=(12, 5))\n",
    "sns.countplot(ax=axes[0], x='Survived', data= train_data)\n",
    "axes[0].set_ylabel('Passengers (#)')\n",
    "axes[0].set_xlabel('')\n",
    "axes[0].set_xticklabels(['Died', 'Survived'])\n",
    "# the semicolon at the end of piechart is used to make text before chart disappear\n",
    "axes[1].pie(train_data.Survived.value_counts(), explode=[0, 0.1], labels=['Died', 'Survived'], autopct='%1.1f%%', shadow=True, startangle=90);"
   ]
  },
  {
   "cell_type": "markdown",
   "metadata": {},
   "source": [
    "From the \"features\" we have, we can make some exploration.\n",
    "The first one we can explore is the survival rate information. We can know the survival rate information from the Passenger column and the Survived column. From the plot above, we know that:\n",
    "1. 61.6% of the Titanic's passenger is died.\n",
    "2. 38.4% of the Titanic's passenger is survived."
   ]
  },
  {
   "cell_type": "code",
   "execution_count": 11,
   "metadata": {},
   "outputs": [
    {
     "name": "stdout",
     "output_type": "stream",
     "text": [
      "The number of women who survived:  233\n",
      "% of women who survived: 74.20\n"
     ]
    }
   ],
   "source": [
    "#Looking for the percentage of women who survived\n",
    "women = train_data.loc[train_data.Sex == 'female'][\"Survived\"]\n",
    "rate_women = sum(women)/len(women)\n",
    "\n",
    "print(\"The number of women who survived: \", sum(women))\n",
    "print(\"% of women who survived:\", \"%.2f\" % (rate_women*100))"
   ]
  },
  {
   "cell_type": "code",
   "execution_count": 12,
   "metadata": {},
   "outputs": [
    {
     "name": "stdout",
     "output_type": "stream",
     "text": [
      "The number of women who died:  81\n",
      "% of women who died: 25.80\n"
     ]
    },
    {
     "name": "stderr",
     "output_type": "stream",
     "text": [
      "<ipython-input-12-0336251d6fea>:1: UserWarning: Boolean Series key will be reindexed to match DataFrame index.\n",
      "  diedWomen= train_data.loc[train_data.Sex == 'female'][train_data.Survived == 0]\n"
     ]
    }
   ],
   "source": [
    "diedWomen= train_data.loc[train_data.Sex == 'female'][train_data.Survived == 0]\n",
    "rate_diedWomen = len(diedWomen)/len(women)\n",
    "\n",
    "print(\"The number of women who died: \", len(diedWomen))\n",
    "print(\"% of women who died:\", \"%.2f\" % (rate_diedWomen*100))"
   ]
  },
  {
   "cell_type": "markdown",
   "metadata": {},
   "source": [
    "The next exploration is about the number and the percentage of women who survived and died in Titanic disaster:\n",
    "1. Of 38.4% survived passenger, there are 233 (74.2%) women who survived.\n",
    "2. Of 61.6% died passenger, there are 81 (25.8%) women who died."
   ]
  },
  {
   "cell_type": "code",
   "execution_count": 13,
   "metadata": {},
   "outputs": [
    {
     "name": "stdout",
     "output_type": "stream",
     "text": [
      "The number of men who survived:  109\n",
      "% of men who survived: 18.89\n"
     ]
    }
   ],
   "source": [
    "#Looking for the percentage of men who survived\n",
    "men = train_data.loc[train_data.Sex == 'male'][\"Survived\"]\n",
    "rate_men = sum(men)/len(men)\n",
    "\n",
    "print(\"The number of men who survived: \", sum(men))\n",
    "print(\"% of men who survived:\", \"%.2f\" % (rate_men*100))"
   ]
  },
  {
   "cell_type": "code",
   "execution_count": 14,
   "metadata": {},
   "outputs": [
    {
     "name": "stdout",
     "output_type": "stream",
     "text": [
      "The number of men who died:  468\n",
      "% of men who died: 81.11\n"
     ]
    },
    {
     "name": "stderr",
     "output_type": "stream",
     "text": [
      "<ipython-input-14-0b9281dbb3db>:1: UserWarning: Boolean Series key will be reindexed to match DataFrame index.\n",
      "  diedMen= train_data.loc[train_data.Sex == 'male'][train_data.Survived == 0]\n"
     ]
    }
   ],
   "source": [
    "diedMen= train_data.loc[train_data.Sex == 'male'][train_data.Survived == 0]\n",
    "rate_diedMen = len(diedMen)/len(men)\n",
    "\n",
    "print(\"The number of men who died: \", len(diedMen))\n",
    "print(\"% of men who died:\", \"%.2f\" % (rate_diedMen*100))"
   ]
  },
  {
   "cell_type": "markdown",
   "metadata": {},
   "source": [
    "The next exploration is about the number and the percentage of men who survived and died in Titanic disaster:\n",
    "1. Of 38.4% survived passenger, there are 109 (18.89%) men who survived.\n",
    "2. Of 61.6% died passenger, there are 468 (81.11%) men who died."
   ]
  },
  {
   "cell_type": "code",
   "execution_count": 15,
   "metadata": {},
   "outputs": [
    {
     "name": "stdout",
     "output_type": "stream",
     "text": [
      "The number of passenger who survived and in the Pclass 1:  136\n",
      "Total number of passenger in the Pclass 1:  216\n",
      "% of number who survived: 62.96\n"
     ]
    }
   ],
   "source": [
    "class1 = train_data.loc[train_data.Pclass == 1][\"Survived\"]\n",
    "rate_class1 = sum(class1)/len(class1)\n",
    "\n",
    "print(\"The number of passenger who survived and in the Pclass 1: \", sum(class1))\n",
    "print(\"Total number of passenger in the Pclass 1: \", len(class1))\n",
    "print(\"% of number who survived:\", \"%.2f\" % (rate_class1*100))"
   ]
  },
  {
   "cell_type": "code",
   "execution_count": 16,
   "metadata": {},
   "outputs": [
    {
     "name": "stdout",
     "output_type": "stream",
     "text": [
      "The number of passenger who survived and in the Pclass 2:  87\n",
      "Total number of passenger in the Pclass 2:  184\n",
      "% of number who survived: 47.28\n"
     ]
    }
   ],
   "source": [
    "class2 = train_data.loc[train_data.Pclass == 2][\"Survived\"]\n",
    "rate_class2 = sum(class2)/len(class2)\n",
    "\n",
    "print(\"The number of passenger who survived and in the Pclass 2: \", sum(class2))\n",
    "print(\"Total number of passenger in the Pclass 2: \", len(class2))\n",
    "print(\"% of number who survived:\", \"%.2f\" % (rate_class2*100))"
   ]
  },
  {
   "cell_type": "code",
   "execution_count": 17,
   "metadata": {},
   "outputs": [
    {
     "name": "stdout",
     "output_type": "stream",
     "text": [
      "The number of passenger who survived and in the Pclass 3:  119\n",
      "Total number of passenger in the Pclass 3:  491\n",
      "% of number who survived: 24.24\n"
     ]
    }
   ],
   "source": [
    "class3 = train_data.loc[train_data.Pclass == 3][\"Survived\"]\n",
    "rate_class3 = sum(class3)/len(class3)\n",
    "\n",
    "print(\"The number of passenger who survived and in the Pclass 3: \", sum(class3))\n",
    "print(\"Total number of passenger in the Pclass 3: \", len(class3))\n",
    "print(\"% of number who survived:\", \"%.2f\" % (rate_class3*100))"
   ]
  },
  {
   "cell_type": "code",
   "execution_count": 18,
   "metadata": {},
   "outputs": [
    {
     "data": {
      "image/png": "[encoded data removed]",
      "text/plain": [
       "<Figure size 432x288 with 1 Axes>"
      ]
     },
     "metadata": {
      "needs_background": "light"
     },
     "output_type": "display_data"
    }
   ],
   "source": [
    "#The survived status based on the Pclass\n",
    "sns.barplot(x='Pclass', y='Survived', data=train_data);"
   ]
  },
  {
   "cell_type": "markdown",
   "metadata": {},
   "source": [
    "The next exploration is about the survived status based on the Pclass:\n",
    "1. The total number of passenger in the Pclass 1 is 216 and the number who survived is 136 (62.96%).\n",
    "2. The total number of passenger in the Pclass 2 is 184 and the number who survived is 87 (47.28%).\n",
    "3. The total number of passenger in the Pclass 3 is 491 and the number who survived is 119 (24.24%).\n",
    "4. Based on the bar plot, we know that the highest chance and number of passenger who survived is passenger that in Pclass 1, the second one is Pclass 2, and the last one is Pclass 3."
   ]
  },
  {
   "cell_type": "code",
   "execution_count": 19,
   "metadata": {},
   "outputs": [
    {
     "data": {
      "text/html": [
       "<style  type=\"text/css\" >\n",
       "#T_e650ca9e_a82f_11eb_85c7_d43d7e5571f7row0_col0,#T_e650ca9e_a82f_11eb_85c7_d43d7e5571f7row0_col2,#T_e650ca9e_a82f_11eb_85c7_d43d7e5571f7row1_col1{\n",
       "            background-color:  #ffff66;\n",
       "            color:  #000000;\n",
       "        }#T_e650ca9e_a82f_11eb_85c7_d43d7e5571f7row0_col1{\n",
       "            background-color:  #77bb66;\n",
       "            color:  #000000;\n",
       "        }#T_e650ca9e_a82f_11eb_85c7_d43d7e5571f7row1_col0{\n",
       "            background-color:  #2c9666;\n",
       "            color:  #000000;\n",
       "        }#T_e650ca9e_a82f_11eb_85c7_d43d7e5571f7row1_col2{\n",
       "            background-color:  #8bc566;\n",
       "            color:  #000000;\n",
       "        }#T_e650ca9e_a82f_11eb_85c7_d43d7e5571f7row2_col0,#T_e650ca9e_a82f_11eb_85c7_d43d7e5571f7row2_col1,#T_e650ca9e_a82f_11eb_85c7_d43d7e5571f7row2_col2{\n",
       "            background-color:  #008066;\n",
       "            color:  #f1f1f1;\n",
       "        }</style><table id=\"T_e650ca9e_a82f_11eb_85c7_d43d7e5571f7\" ><thead>    <tr>        <th class=\"index_name level0\" >Survived</th>        <th class=\"col_heading level0 col0\" >0</th>        <th class=\"col_heading level0 col1\" >1</th>        <th class=\"col_heading level0 col2\" >All</th>    </tr>    <tr>        <th class=\"index_name level0\" >Sex</th>        <th class=\"blank\" ></th>        <th class=\"blank\" ></th>        <th class=\"blank\" ></th>    </tr></thead><tbody>\n",
       "                <tr>\n",
       "                        <th id=\"T_e650ca9e_a82f_11eb_85c7_d43d7e5571f7level0_row0\" class=\"row_heading level0 row0\" >female</th>\n",
       "                        <td id=\"T_e650ca9e_a82f_11eb_85c7_d43d7e5571f7row0_col0\" class=\"data row0 col0\" >81</td>\n",
       "                        <td id=\"T_e650ca9e_a82f_11eb_85c7_d43d7e5571f7row0_col1\" class=\"data row0 col1\" >233</td>\n",
       "                        <td id=\"T_e650ca9e_a82f_11eb_85c7_d43d7e5571f7row0_col2\" class=\"data row0 col2\" >314</td>\n",
       "            </tr>\n",
       "            <tr>\n",
       "                        <th id=\"T_e650ca9e_a82f_11eb_85c7_d43d7e5571f7level0_row1\" class=\"row_heading level0 row1\" >male</th>\n",
       "                        <td id=\"T_e650ca9e_a82f_11eb_85c7_d43d7e5571f7row1_col0\" class=\"data row1 col0\" >468</td>\n",
       "                        <td id=\"T_e650ca9e_a82f_11eb_85c7_d43d7e5571f7row1_col1\" class=\"data row1 col1\" >109</td>\n",
       "                        <td id=\"T_e650ca9e_a82f_11eb_85c7_d43d7e5571f7row1_col2\" class=\"data row1 col2\" >577</td>\n",
       "            </tr>\n",
       "            <tr>\n",
       "                        <th id=\"T_e650ca9e_a82f_11eb_85c7_d43d7e5571f7level0_row2\" class=\"row_heading level0 row2\" >All</th>\n",
       "                        <td id=\"T_e650ca9e_a82f_11eb_85c7_d43d7e5571f7row2_col0\" class=\"data row2 col0\" >549</td>\n",
       "                        <td id=\"T_e650ca9e_a82f_11eb_85c7_d43d7e5571f7row2_col1\" class=\"data row2 col1\" >342</td>\n",
       "                        <td id=\"T_e650ca9e_a82f_11eb_85c7_d43d7e5571f7row2_col2\" class=\"data row2 col2\" >891</td>\n",
       "            </tr>\n",
       "    </tbody></table>"
      ],
      "text/plain": [
       "<pandas.io.formats.style.Styler at 0x15e83fbacd0>"
      ]
     },
     "metadata": {},
     "output_type": "display_data"
    },
    {
     "data": {
      "text/html": [
       "<style  type=\"text/css\" >\n",
       "#T_e65a8e8f_a82f_11eb_a3b9_d43d7e5571f7row0_col0,#T_e65a8e8f_a82f_11eb_a3b9_d43d7e5571f7row1_col1,#T_e65a8e8f_a82f_11eb_a3b9_d43d7e5571f7row1_col2{\n",
       "            background-color:  #ffff66;\n",
       "            color:  #000000;\n",
       "        }#T_e65a8e8f_a82f_11eb_a3b9_d43d7e5571f7row0_col1{\n",
       "            background-color:  #cee666;\n",
       "            color:  #000000;\n",
       "        }#T_e65a8e8f_a82f_11eb_a3b9_d43d7e5571f7row0_col2{\n",
       "            background-color:  #f4fa66;\n",
       "            color:  #000000;\n",
       "        }#T_e65a8e8f_a82f_11eb_a3b9_d43d7e5571f7row1_col0{\n",
       "            background-color:  #f6fa66;\n",
       "            color:  #000000;\n",
       "        }#T_e65a8e8f_a82f_11eb_a3b9_d43d7e5571f7row2_col0{\n",
       "            background-color:  #60b066;\n",
       "            color:  #000000;\n",
       "        }#T_e65a8e8f_a82f_11eb_a3b9_d43d7e5571f7row2_col1{\n",
       "            background-color:  #dfef66;\n",
       "            color:  #000000;\n",
       "        }#T_e65a8e8f_a82f_11eb_a3b9_d43d7e5571f7row2_col2{\n",
       "            background-color:  #90c866;\n",
       "            color:  #000000;\n",
       "        }#T_e65a8e8f_a82f_11eb_a3b9_d43d7e5571f7row3_col0,#T_e65a8e8f_a82f_11eb_a3b9_d43d7e5571f7row3_col1,#T_e65a8e8f_a82f_11eb_a3b9_d43d7e5571f7row3_col2{\n",
       "            background-color:  #008066;\n",
       "            color:  #f1f1f1;\n",
       "        }</style><table id=\"T_e65a8e8f_a82f_11eb_a3b9_d43d7e5571f7\" ><thead>    <tr>        <th class=\"index_name level0\" >Survived</th>        <th class=\"col_heading level0 col0\" >0</th>        <th class=\"col_heading level0 col1\" >1</th>        <th class=\"col_heading level0 col2\" >All</th>    </tr>    <tr>        <th class=\"index_name level0\" >Pclass</th>        <th class=\"blank\" ></th>        <th class=\"blank\" ></th>        <th class=\"blank\" ></th>    </tr></thead><tbody>\n",
       "                <tr>\n",
       "                        <th id=\"T_e65a8e8f_a82f_11eb_a3b9_d43d7e5571f7level0_row0\" class=\"row_heading level0 row0\" >1</th>\n",
       "                        <td id=\"T_e65a8e8f_a82f_11eb_a3b9_d43d7e5571f7row0_col0\" class=\"data row0 col0\" >80</td>\n",
       "                        <td id=\"T_e65a8e8f_a82f_11eb_a3b9_d43d7e5571f7row0_col1\" class=\"data row0 col1\" >136</td>\n",
       "                        <td id=\"T_e65a8e8f_a82f_11eb_a3b9_d43d7e5571f7row0_col2\" class=\"data row0 col2\" >216</td>\n",
       "            </tr>\n",
       "            <tr>\n",
       "                        <th id=\"T_e65a8e8f_a82f_11eb_a3b9_d43d7e5571f7level0_row1\" class=\"row_heading level0 row1\" >2</th>\n",
       "                        <td id=\"T_e65a8e8f_a82f_11eb_a3b9_d43d7e5571f7row1_col0\" class=\"data row1 col0\" >97</td>\n",
       "                        <td id=\"T_e65a8e8f_a82f_11eb_a3b9_d43d7e5571f7row1_col1\" class=\"data row1 col1\" >87</td>\n",
       "                        <td id=\"T_e65a8e8f_a82f_11eb_a3b9_d43d7e5571f7row1_col2\" class=\"data row1 col2\" >184</td>\n",
       "            </tr>\n",
       "            <tr>\n",
       "                        <th id=\"T_e65a8e8f_a82f_11eb_a3b9_d43d7e5571f7level0_row2\" class=\"row_heading level0 row2\" >3</th>\n",
       "                        <td id=\"T_e65a8e8f_a82f_11eb_a3b9_d43d7e5571f7row2_col0\" class=\"data row2 col0\" >372</td>\n",
       "                        <td id=\"T_e65a8e8f_a82f_11eb_a3b9_d43d7e5571f7row2_col1\" class=\"data row2 col1\" >119</td>\n",
       "                        <td id=\"T_e65a8e8f_a82f_11eb_a3b9_d43d7e5571f7row2_col2\" class=\"data row2 col2\" >491</td>\n",
       "            </tr>\n",
       "            <tr>\n",
       "                        <th id=\"T_e65a8e8f_a82f_11eb_a3b9_d43d7e5571f7level0_row3\" class=\"row_heading level0 row3\" >All</th>\n",
       "                        <td id=\"T_e65a8e8f_a82f_11eb_a3b9_d43d7e5571f7row3_col0\" class=\"data row3 col0\" >549</td>\n",
       "                        <td id=\"T_e65a8e8f_a82f_11eb_a3b9_d43d7e5571f7row3_col1\" class=\"data row3 col1\" >342</td>\n",
       "                        <td id=\"T_e65a8e8f_a82f_11eb_a3b9_d43d7e5571f7row3_col2\" class=\"data row3 col2\" >891</td>\n",
       "            </tr>\n",
       "    </tbody></table>"
      ],
      "text/plain": [
       "<pandas.io.formats.style.Styler at 0x15e83fba280>"
      ]
     },
     "metadata": {},
     "output_type": "display_data"
    },
    {
     "data": {
      "image/png": "[encoded data removed]",
      "text/plain": [
       "<Figure size 576x288 with 1 Axes>"
      ]
     },
     "metadata": {
      "needs_background": "light"
     },
     "output_type": "display_data"
    }
   ],
   "source": [
    "#The correlation between Pclass, survived, and sex\n",
    "fig, ax = plt.subplots(figsize=(8, 4))\n",
    "sns.pointplot(x='Pclass', y='Survived', hue='Sex', data= train_data, ax=ax)\n",
    "\n",
    "display(pd.crosstab(train_data.Sex, train_data.Survived, margins=True).style.background_gradient(cmap='summer_r'))\n",
    "display(pd.crosstab(train_data.Pclass, train_data.Survived, margins=True).style.background_gradient(cmap='summer_r'))"
   ]
  },
  {
   "cell_type": "markdown",
   "metadata": {},
   "source": [
    "The next exploration is about finding the correlation between Pclass, Sex, and Survived column. We found that:\n",
    "1. The two crosstab are the visualization of the exploration about the number of survived based on gender and the number of survived based on Pclass (We discussed it already before).\n",
    "2. There is 2 point plot:\n",
    "- The first point plot told us that for female passengers, passenger that in Pclass 1 have the highest chance to survive. The second one is the Pclass 2, and the last one is Pclass 3.\n",
    "- The second point plot told us that for male passengers, passenger that in Pclass 1 have the highest chance to survive. The second one is the Pclass 2, and the last one is Pclass 3.\n",
    "3. Regardless of gender, the 1st class passengers have greater chance to survive, while 3rd class passengers have a really low survival rate.\n",
    "4. We can see the comparison of the two point plot that wherever the Pclass of the male passengers, they have lower chance to survive rather than the female passengers."
   ]
  },
  {
   "cell_type": "code",
   "execution_count": 20,
   "metadata": {},
   "outputs": [
    {
     "name": "stderr",
     "output_type": "stream",
     "text": [
      "C:\\Users\\alazz\\anaconda3\\lib\\site-packages\\seaborn\\_decorators.py:36: FutureWarning: Pass the following variables as keyword args: x, y. From version 0.12, the only valid positional argument will be `data`, and passing other arguments without an explicit keyword will result in an error or misinterpretation.\n",
      "  warnings.warn(\n"
     ]
    },
    {
     "data": {
      "text/html": [
       "<style  type=\"text/css\" >\n",
       "#T_e937c115_a82f_11eb_8d9b_d43d7e5571f7row0_col0,#T_e937c115_a82f_11eb_8d9b_d43d7e5571f7row0_col1,#T_e937c115_a82f_11eb_8d9b_d43d7e5571f7row0_col2{\n",
       "            background-color:  #008066;\n",
       "            color:  #f1f1f1;\n",
       "        }#T_e937c115_a82f_11eb_8d9b_d43d7e5571f7row1_col0{\n",
       "            background-color:  #7bbd66;\n",
       "            color:  #000000;\n",
       "        }#T_e937c115_a82f_11eb_8d9b_d43d7e5571f7row1_col1{\n",
       "            background-color:  #8ac466;\n",
       "            color:  #000000;\n",
       "        }#T_e937c115_a82f_11eb_8d9b_d43d7e5571f7row1_col2{\n",
       "            background-color:  #c6e266;\n",
       "            color:  #000000;\n",
       "        }#T_e937c115_a82f_11eb_8d9b_d43d7e5571f7row2_col0,#T_e937c115_a82f_11eb_8d9b_d43d7e5571f7row4_col2{\n",
       "            background-color:  #f6fa66;\n",
       "            color:  #000000;\n",
       "        }#T_e937c115_a82f_11eb_8d9b_d43d7e5571f7row2_col1{\n",
       "            background-color:  #eef666;\n",
       "            color:  #000000;\n",
       "        }#T_e937c115_a82f_11eb_8d9b_d43d7e5571f7row2_col2{\n",
       "            background-color:  #f8fc66;\n",
       "            color:  #000000;\n",
       "        }#T_e937c115_a82f_11eb_8d9b_d43d7e5571f7row3_col0,#T_e937c115_a82f_11eb_8d9b_d43d7e5571f7row3_col2{\n",
       "            background-color:  #fafc66;\n",
       "            color:  #000000;\n",
       "        }#T_e937c115_a82f_11eb_8d9b_d43d7e5571f7row3_col1{\n",
       "            background-color:  #fdfe66;\n",
       "            color:  #000000;\n",
       "        }#T_e937c115_a82f_11eb_8d9b_d43d7e5571f7row4_col0,#T_e937c115_a82f_11eb_8d9b_d43d7e5571f7row4_col1,#T_e937c115_a82f_11eb_8d9b_d43d7e5571f7row5_col0,#T_e937c115_a82f_11eb_8d9b_d43d7e5571f7row5_col1,#T_e937c115_a82f_11eb_8d9b_d43d7e5571f7row5_col2,#T_e937c115_a82f_11eb_8d9b_d43d7e5571f7row6_col0,#T_e937c115_a82f_11eb_8d9b_d43d7e5571f7row6_col1{\n",
       "            background-color:  #ffff66;\n",
       "            color:  #000000;\n",
       "        }#T_e937c115_a82f_11eb_8d9b_d43d7e5571f7row6_col2{\n",
       "            background-color:  #fefe66;\n",
       "            color:  #000000;\n",
       "        }</style><table id=\"T_e937c115_a82f_11eb_8d9b_d43d7e5571f7\" ><thead>    <tr>        <th class=\"index_name level0\" >Pclass</th>        <th class=\"col_heading level0 col0\" >1</th>        <th class=\"col_heading level0 col1\" >2</th>        <th class=\"col_heading level0 col2\" >3</th>    </tr>    <tr>        <th class=\"index_name level0\" >SibSp</th>        <th class=\"blank\" ></th>        <th class=\"blank\" ></th>        <th class=\"blank\" ></th>    </tr></thead><tbody>\n",
       "                <tr>\n",
       "                        <th id=\"T_e937c115_a82f_11eb_8d9b_d43d7e5571f7level0_row0\" class=\"row_heading level0 row0\" >0</th>\n",
       "                        <td id=\"T_e937c115_a82f_11eb_8d9b_d43d7e5571f7row0_col0\" class=\"data row0 col0\" >137</td>\n",
       "                        <td id=\"T_e937c115_a82f_11eb_8d9b_d43d7e5571f7row0_col1\" class=\"data row0 col1\" >120</td>\n",
       "                        <td id=\"T_e937c115_a82f_11eb_8d9b_d43d7e5571f7row0_col2\" class=\"data row0 col2\" >351</td>\n",
       "            </tr>\n",
       "            <tr>\n",
       "                        <th id=\"T_e937c115_a82f_11eb_8d9b_d43d7e5571f7level0_row1\" class=\"row_heading level0 row1\" >1</th>\n",
       "                        <td id=\"T_e937c115_a82f_11eb_8d9b_d43d7e5571f7row1_col0\" class=\"data row1 col0\" >71</td>\n",
       "                        <td id=\"T_e937c115_a82f_11eb_8d9b_d43d7e5571f7row1_col1\" class=\"data row1 col1\" >55</td>\n",
       "                        <td id=\"T_e937c115_a82f_11eb_8d9b_d43d7e5571f7row1_col2\" class=\"data row1 col2\" >83</td>\n",
       "            </tr>\n",
       "            <tr>\n",
       "                        <th id=\"T_e937c115_a82f_11eb_8d9b_d43d7e5571f7level0_row2\" class=\"row_heading level0 row2\" >2</th>\n",
       "                        <td id=\"T_e937c115_a82f_11eb_8d9b_d43d7e5571f7row2_col0\" class=\"data row2 col0\" >5</td>\n",
       "                        <td id=\"T_e937c115_a82f_11eb_8d9b_d43d7e5571f7row2_col1\" class=\"data row2 col1\" >8</td>\n",
       "                        <td id=\"T_e937c115_a82f_11eb_8d9b_d43d7e5571f7row2_col2\" class=\"data row2 col2\" >15</td>\n",
       "            </tr>\n",
       "            <tr>\n",
       "                        <th id=\"T_e937c115_a82f_11eb_8d9b_d43d7e5571f7level0_row3\" class=\"row_heading level0 row3\" >3</th>\n",
       "                        <td id=\"T_e937c115_a82f_11eb_8d9b_d43d7e5571f7row3_col0\" class=\"data row3 col0\" >3</td>\n",
       "                        <td id=\"T_e937c115_a82f_11eb_8d9b_d43d7e5571f7row3_col1\" class=\"data row3 col1\" >1</td>\n",
       "                        <td id=\"T_e937c115_a82f_11eb_8d9b_d43d7e5571f7row3_col2\" class=\"data row3 col2\" >12</td>\n",
       "            </tr>\n",
       "            <tr>\n",
       "                        <th id=\"T_e937c115_a82f_11eb_8d9b_d43d7e5571f7level0_row4\" class=\"row_heading level0 row4\" >4</th>\n",
       "                        <td id=\"T_e937c115_a82f_11eb_8d9b_d43d7e5571f7row4_col0\" class=\"data row4 col0\" >0</td>\n",
       "                        <td id=\"T_e937c115_a82f_11eb_8d9b_d43d7e5571f7row4_col1\" class=\"data row4 col1\" >0</td>\n",
       "                        <td id=\"T_e937c115_a82f_11eb_8d9b_d43d7e5571f7row4_col2\" class=\"data row4 col2\" >18</td>\n",
       "            </tr>\n",
       "            <tr>\n",
       "                        <th id=\"T_e937c115_a82f_11eb_8d9b_d43d7e5571f7level0_row5\" class=\"row_heading level0 row5\" >5</th>\n",
       "                        <td id=\"T_e937c115_a82f_11eb_8d9b_d43d7e5571f7row5_col0\" class=\"data row5 col0\" >0</td>\n",
       "                        <td id=\"T_e937c115_a82f_11eb_8d9b_d43d7e5571f7row5_col1\" class=\"data row5 col1\" >0</td>\n",
       "                        <td id=\"T_e937c115_a82f_11eb_8d9b_d43d7e5571f7row5_col2\" class=\"data row5 col2\" >5</td>\n",
       "            </tr>\n",
       "            <tr>\n",
       "                        <th id=\"T_e937c115_a82f_11eb_8d9b_d43d7e5571f7level0_row6\" class=\"row_heading level0 row6\" >8</th>\n",
       "                        <td id=\"T_e937c115_a82f_11eb_8d9b_d43d7e5571f7row6_col0\" class=\"data row6 col0\" >0</td>\n",
       "                        <td id=\"T_e937c115_a82f_11eb_8d9b_d43d7e5571f7row6_col1\" class=\"data row6 col1\" >0</td>\n",
       "                        <td id=\"T_e937c115_a82f_11eb_8d9b_d43d7e5571f7row6_col2\" class=\"data row6 col2\" >7</td>\n",
       "            </tr>\n",
       "    </tbody></table>"
      ],
      "text/plain": [
       "<pandas.io.formats.style.Styler at 0x15e84244070>"
      ]
     },
     "metadata": {},
     "output_type": "display_data"
    },
    {
     "data": {
      "image/png": "[encoded data removed]",
      "text/plain": [
       "<Figure size 576x288 with 1 Axes>"
      ]
     },
     "metadata": {
      "needs_background": "light"
     },
     "output_type": "display_data"
    }
   ],
   "source": [
    "fig, ax = plt.subplots(figsize=(8, 4))\n",
    "sns.pointplot('SibSp', 'Survived', hue='Sex', data= train_data, ax=ax)\n",
    "display(pd.crosstab(train_data.SibSp, train_data.Pclass).style.background_gradient(cmap='summer_r'))"
   ]
  },
  {
   "cell_type": "markdown",
   "metadata": {},
   "source": [
    "From the plot above, we know that:\n",
    "1. Lonely male passenger had almost 60% less chances to survive than female passenger.\n",
    "2. Male passenger with one sibling or spouce had almost double chances to survive compared to the loners. I guess having someone to take care of you during a disaster of this magnitude is of great importance.\n",
    "3. Female passenger seem to have similar chances of survival with or without siblings or spouces. However, when this number exceeds two, their chances of survival drops. My guess is that this is associated with the class as well. 3rd class passengers tend to have greater families, so the survival rate is low."
   ]
  },
  {
   "cell_type": "code",
   "execution_count": 21,
   "metadata": {},
   "outputs": [
    {
     "data": {
      "text/html": [
       "<style  type=\"text/css\" >\n",
       "#T_eaa0765f_a82f_11eb_b477_d43d7e5571f7row0_col0,#T_eaa0765f_a82f_11eb_b477_d43d7e5571f7row0_col1,#T_eaa0765f_a82f_11eb_b477_d43d7e5571f7row0_col2{\n",
       "            background-color:  #008066;\n",
       "            color:  #f1f1f1;\n",
       "        }#T_eaa0765f_a82f_11eb_b477_d43d7e5571f7row1_col0{\n",
       "            background-color:  #cfe766;\n",
       "            color:  #000000;\n",
       "        }#T_eaa0765f_a82f_11eb_b477_d43d7e5571f7row1_col1{\n",
       "            background-color:  #c2e066;\n",
       "            color:  #000000;\n",
       "        }#T_eaa0765f_a82f_11eb_b477_d43d7e5571f7row1_col2{\n",
       "            background-color:  #dbed66;\n",
       "            color:  #000000;\n",
       "        }#T_eaa0765f_a82f_11eb_b477_d43d7e5571f7row2_col0{\n",
       "            background-color:  #dfef66;\n",
       "            color:  #000000;\n",
       "        }#T_eaa0765f_a82f_11eb_b477_d43d7e5571f7row2_col1{\n",
       "            background-color:  #e1f066;\n",
       "            color:  #000000;\n",
       "        }#T_eaa0765f_a82f_11eb_b477_d43d7e5571f7row2_col2{\n",
       "            background-color:  #e3f166;\n",
       "            color:  #000000;\n",
       "        }#T_eaa0765f_a82f_11eb_b477_d43d7e5571f7row3_col0,#T_eaa0765f_a82f_11eb_b477_d43d7e5571f7row4_col1,#T_eaa0765f_a82f_11eb_b477_d43d7e5571f7row5_col0,#T_eaa0765f_a82f_11eb_b477_d43d7e5571f7row5_col1,#T_eaa0765f_a82f_11eb_b477_d43d7e5571f7row6_col0,#T_eaa0765f_a82f_11eb_b477_d43d7e5571f7row6_col1,#T_eaa0765f_a82f_11eb_b477_d43d7e5571f7row6_col2{\n",
       "            background-color:  #ffff66;\n",
       "            color:  #000000;\n",
       "        }#T_eaa0765f_a82f_11eb_b477_d43d7e5571f7row3_col1{\n",
       "            background-color:  #fcfe66;\n",
       "            color:  #000000;\n",
       "        }#T_eaa0765f_a82f_11eb_b477_d43d7e5571f7row3_col2,#T_eaa0765f_a82f_11eb_b477_d43d7e5571f7row4_col0,#T_eaa0765f_a82f_11eb_b477_d43d7e5571f7row4_col2{\n",
       "            background-color:  #fefe66;\n",
       "            color:  #000000;\n",
       "        }#T_eaa0765f_a82f_11eb_b477_d43d7e5571f7row5_col2{\n",
       "            background-color:  #fdfe66;\n",
       "            color:  #000000;\n",
       "        }</style><table id=\"T_eaa0765f_a82f_11eb_b477_d43d7e5571f7\" ><thead>    <tr>        <th class=\"index_name level0\" >Pclass</th>        <th class=\"col_heading level0 col0\" >1</th>        <th class=\"col_heading level0 col1\" >2</th>        <th class=\"col_heading level0 col2\" >3</th>    </tr>    <tr>        <th class=\"index_name level0\" >Parch</th>        <th class=\"blank\" ></th>        <th class=\"blank\" ></th>        <th class=\"blank\" ></th>    </tr></thead><tbody>\n",
       "                <tr>\n",
       "                        <th id=\"T_eaa0765f_a82f_11eb_b477_d43d7e5571f7level0_row0\" class=\"row_heading level0 row0\" >0</th>\n",
       "                        <td id=\"T_eaa0765f_a82f_11eb_b477_d43d7e5571f7row0_col0\" class=\"data row0 col0\" >163</td>\n",
       "                        <td id=\"T_eaa0765f_a82f_11eb_b477_d43d7e5571f7row0_col1\" class=\"data row0 col1\" >134</td>\n",
       "                        <td id=\"T_eaa0765f_a82f_11eb_b477_d43d7e5571f7row0_col2\" class=\"data row0 col2\" >381</td>\n",
       "            </tr>\n",
       "            <tr>\n",
       "                        <th id=\"T_eaa0765f_a82f_11eb_b477_d43d7e5571f7level0_row1\" class=\"row_heading level0 row1\" >1</th>\n",
       "                        <td id=\"T_eaa0765f_a82f_11eb_b477_d43d7e5571f7row1_col0\" class=\"data row1 col0\" >31</td>\n",
       "                        <td id=\"T_eaa0765f_a82f_11eb_b477_d43d7e5571f7row1_col1\" class=\"data row1 col1\" >32</td>\n",
       "                        <td id=\"T_eaa0765f_a82f_11eb_b477_d43d7e5571f7row1_col2\" class=\"data row1 col2\" >55</td>\n",
       "            </tr>\n",
       "            <tr>\n",
       "                        <th id=\"T_eaa0765f_a82f_11eb_b477_d43d7e5571f7level0_row2\" class=\"row_heading level0 row2\" >2</th>\n",
       "                        <td id=\"T_eaa0765f_a82f_11eb_b477_d43d7e5571f7row2_col0\" class=\"data row2 col0\" >21</td>\n",
       "                        <td id=\"T_eaa0765f_a82f_11eb_b477_d43d7e5571f7row2_col1\" class=\"data row2 col1\" >16</td>\n",
       "                        <td id=\"T_eaa0765f_a82f_11eb_b477_d43d7e5571f7row2_col2\" class=\"data row2 col2\" >43</td>\n",
       "            </tr>\n",
       "            <tr>\n",
       "                        <th id=\"T_eaa0765f_a82f_11eb_b477_d43d7e5571f7level0_row3\" class=\"row_heading level0 row3\" >3</th>\n",
       "                        <td id=\"T_eaa0765f_a82f_11eb_b477_d43d7e5571f7row3_col0\" class=\"data row3 col0\" >0</td>\n",
       "                        <td id=\"T_eaa0765f_a82f_11eb_b477_d43d7e5571f7row3_col1\" class=\"data row3 col1\" >2</td>\n",
       "                        <td id=\"T_eaa0765f_a82f_11eb_b477_d43d7e5571f7row3_col2\" class=\"data row3 col2\" >3</td>\n",
       "            </tr>\n",
       "            <tr>\n",
       "                        <th id=\"T_eaa0765f_a82f_11eb_b477_d43d7e5571f7level0_row4\" class=\"row_heading level0 row4\" >4</th>\n",
       "                        <td id=\"T_eaa0765f_a82f_11eb_b477_d43d7e5571f7row4_col0\" class=\"data row4 col0\" >1</td>\n",
       "                        <td id=\"T_eaa0765f_a82f_11eb_b477_d43d7e5571f7row4_col1\" class=\"data row4 col1\" >0</td>\n",
       "                        <td id=\"T_eaa0765f_a82f_11eb_b477_d43d7e5571f7row4_col2\" class=\"data row4 col2\" >3</td>\n",
       "            </tr>\n",
       "            <tr>\n",
       "                        <th id=\"T_eaa0765f_a82f_11eb_b477_d43d7e5571f7level0_row5\" class=\"row_heading level0 row5\" >5</th>\n",
       "                        <td id=\"T_eaa0765f_a82f_11eb_b477_d43d7e5571f7row5_col0\" class=\"data row5 col0\" >0</td>\n",
       "                        <td id=\"T_eaa0765f_a82f_11eb_b477_d43d7e5571f7row5_col1\" class=\"data row5 col1\" >0</td>\n",
       "                        <td id=\"T_eaa0765f_a82f_11eb_b477_d43d7e5571f7row5_col2\" class=\"data row5 col2\" >5</td>\n",
       "            </tr>\n",
       "            <tr>\n",
       "                        <th id=\"T_eaa0765f_a82f_11eb_b477_d43d7e5571f7level0_row6\" class=\"row_heading level0 row6\" >6</th>\n",
       "                        <td id=\"T_eaa0765f_a82f_11eb_b477_d43d7e5571f7row6_col0\" class=\"data row6 col0\" >0</td>\n",
       "                        <td id=\"T_eaa0765f_a82f_11eb_b477_d43d7e5571f7row6_col1\" class=\"data row6 col1\" >0</td>\n",
       "                        <td id=\"T_eaa0765f_a82f_11eb_b477_d43d7e5571f7row6_col2\" class=\"data row6 col2\" >1</td>\n",
       "            </tr>\n",
       "    </tbody></table>"
      ],
      "text/plain": [
       "<pandas.io.formats.style.Styler at 0x15e842804f0>"
      ]
     },
     "metadata": {},
     "output_type": "display_data"
    },
    {
     "name": "stderr",
     "output_type": "stream",
     "text": [
      "C:\\Users\\alazz\\anaconda3\\lib\\site-packages\\seaborn\\_decorators.py:36: FutureWarning: Pass the following variables as keyword args: x, y. From version 0.12, the only valid positional argument will be `data`, and passing other arguments without an explicit keyword will result in an error or misinterpretation.\n",
      "  warnings.warn(\n"
     ]
    },
    {
     "data": {
      "image/png": "[encoded data removed]",
      "text/plain": [
       "<Figure size 576x288 with 1 Axes>"
      ]
     },
     "metadata": {
      "needs_background": "light"
     },
     "output_type": "display_data"
    }
   ],
   "source": [
    "display(pd.crosstab(train_data.Parch, train_data.Pclass).style.background_gradient(cmap='summer_r'))\n",
    "fig, ax = plt.subplots(figsize=(8, 4))\n",
    "sns.pointplot('Parch', 'Survived', data= train_data, hue='Pclass', ax=ax);"
   ]
  },
  {
   "cell_type": "markdown",
   "metadata": {},
   "source": [
    "From the plot above, we know that:\n",
    "1. Regardless of class, passengers without children or parents seem to have minimum chances of survival.\n",
    "2. Class 1 and 2, seem to have a rise in survival rate when the number of parents or children increases. Parch for these two classes does not increase beyond 2 and 3 respectively. The way I interpret this, the richer a passenger, the fewer children they have.\n",
    "3. For the 3rd class, Parch doesn't seem to affect the survival rate in a positive way. Especially passengers with 4 or 6 parents or children seem to have no chance to survive. It could be that these passengers stayed in the lower decks which flooded first or they didn't have enough time to reach the lifeboats on time."
   ]
  },
  {
   "cell_type": "code",
   "execution_count": 22,
   "metadata": {},
   "outputs": [
    {
     "name": "stderr",
     "output_type": "stream",
     "text": [
      "C:\\Users\\alazz\\anaconda3\\lib\\site-packages\\seaborn\\distributions.py:2551: FutureWarning: `distplot` is a deprecated function and will be removed in a future version. Please adapt your code to use either `displot` (a figure-level function with similar flexibility) or `histplot` (an axes-level function for histograms).\n",
      "  warnings.warn(msg, FutureWarning)\n",
      "C:\\Users\\alazz\\anaconda3\\lib\\site-packages\\seaborn\\distributions.py:2551: FutureWarning: `distplot` is a deprecated function and will be removed in a future version. Please adapt your code to use either `displot` (a figure-level function with similar flexibility) or `histplot` (an axes-level function for histograms).\n",
      "  warnings.warn(msg, FutureWarning)\n",
      "C:\\Users\\alazz\\anaconda3\\lib\\site-packages\\seaborn\\distributions.py:2551: FutureWarning: `distplot` is a deprecated function and will be removed in a future version. Please adapt your code to use either `displot` (a figure-level function with similar flexibility) or `histplot` (an axes-level function for histograms).\n",
      "  warnings.warn(msg, FutureWarning)\n",
      "C:\\Users\\alazz\\anaconda3\\lib\\site-packages\\seaborn\\distributions.py:2551: FutureWarning: `distplot` is a deprecated function and will be removed in a future version. Please adapt your code to use either `displot` (a figure-level function with similar flexibility) or `histplot` (an axes-level function for histograms).\n",
      "  warnings.warn(msg, FutureWarning)\n"
     ]
    },
    {
     "data": {
      "image/png": "[encoded data removed]",
      "text/plain": [
       "<Figure size 1152x576 with 2 Axes>"
      ]
     },
     "metadata": {
      "needs_background": "light"
     },
     "output_type": "display_data"
    }
   ],
   "source": [
    "#The plot of gender, age, the survived status\n",
    "survived = 'survived'\n",
    "not_survived = 'not survived'\n",
    "fig, axes = plt.subplots(nrows=1, ncols=2,figsize=(16, 8))\n",
    "women = train_data[train_data['Sex']=='female']\n",
    "men = train_data[train_data['Sex']=='male']\n",
    "ax = sns.distplot(women[women['Survived']==1].Age.dropna(), bins=18, label = survived, ax = axes[0], kde =False, color=\"green\")\n",
    "ax = sns.distplot(women[women['Survived']==0].Age.dropna(), bins=40, label = not_survived, ax = axes[0], kde =False, color=\"red\")\n",
    "ax.legend()\n",
    "ax.set_title('Female')\n",
    "ax = sns.distplot(men[men['Survived']==1].Age.dropna(), bins=18, label = survived, ax = axes[1], kde = False, color=\"green\")\n",
    "ax = sns.distplot(men[men['Survived']==0].Age.dropna(), bins=40, label = not_survived, ax = axes[1], kde = False, color=\"red\")\n",
    "ax.legend()\n",
    "_ = ax.set_title('Male');"
   ]
  },
  {
   "cell_type": "markdown",
   "metadata": {},
   "source": [
    "From the plot above, we got some information:\n",
    "1. Male passengers who died is higher than the female passengers who died and male passengers who survived is lower than the female passengers who survived.\n",
    "2. Female passengers in 15-35 are the highest number of passengers who survived and for the dead passengers, it's evenly distributed (there is no age-span that high or dominant).\n",
    "3. Male passengers under 5 and 18-30 are the highest number of passengers who survived, while male passengers in 15-30 are the highest number of passengers who died. There is the same age group (18-30), but the number of dead passengers is higher than the survived passengers.\n",
    "4. The unique information is there is/are male passenger(s) in 75-80 who survived."
   ]
  },
  {
   "cell_type": "code",
   "execution_count": 23,
   "metadata": {},
   "outputs": [
    {
     "data": {
      "image/png": "[encoded data removed]",
      "text/plain": [
       "<Figure size 699.875x432 with 6 Axes>"
      ]
     },
     "metadata": {
      "needs_background": "light"
     },
     "output_type": "display_data"
    }
   ],
   "source": [
    "#The correlation between Pclass, Sex, Age, and Survived status\n",
    "pal = ['red', 'green']        \n",
    "g = sns.FacetGrid(train_data, col='Pclass', row='Sex', palette=pal, hue='Survived', hue_order=[0, 1])\n",
    "g.map(sns.histplot, 'Age',  alpha=.3, bins=20)\n",
    "g.add_legend();"
   ]
  },
  {
   "cell_type": "markdown",
   "metadata": {},
   "source": [
    "The plot above told us about the distribution of survived or dead passengers based on gender and the Pclass. We can know the age distribution too. There is some information we got from the plot:\n",
    "1. Male passengers from the 2nd and the 3rd class have the lowest survival rate, while male passengers from the 1st class have 50-50 chance to survive.\n",
    "2. Female passengers from the 1st and the 2nd class have the greatest chances of survival, while female passengers in the 3rd class have 50-50 chance to survive."
   ]
  },
  {
   "cell_type": "code",
   "execution_count": 24,
   "metadata": {},
   "outputs": [
    {
     "data": {
      "image/png": "[encoded data removed]",
      "text/plain": [
       "<Figure size 432x288 with 1 Axes>"
      ]
     },
     "metadata": {},
     "output_type": "display_data"
    }
   ],
   "source": [
    "#The survived status based on the embarked\n",
    "sns.set(style=\"darkgrid\")\n",
    "sns.countplot( x='Survived', data=train_data, hue=\"Embarked\", palette=\"Set1\");"
   ]
  },
  {
   "cell_type": "markdown",
   "metadata": {},
   "source": [
    "The plot above told us about the embarkation port and the survival status. From the plot, we know that:\n",
    "1. The highest number of passengers who survived and died are the passengers from Southampton embarkation port. I think it's because most of the passenger embarkation port is Southampton.\n",
    "2. The lowest number of passengers who survived and died are the passengers from Queenstown embarkation port. I think it's because the number of passengers that have Queenstown as their embarkation port is the lowest too."
   ]
  },
  {
   "cell_type": "markdown",
   "metadata": {},
   "source": [
    "## Data pre-processing"
   ]
  },
  {
   "cell_type": "markdown",
   "metadata": {},
   "source": [
    "Besides found some insights and interesting facts, we found some \"weakness\" of the data too: that's why we need to do data pre-processing. With data pre-processing, we can \"repair\" the data and make sure that the data is ready to used in the Machine Learning model."
   ]
  },
  {
   "cell_type": "code",
   "execution_count": 25,
   "metadata": {},
   "outputs": [
    {
     "name": "stdout",
     "output_type": "stream",
     "text": [
      "PassengerId : 0\n",
      "Survived : 0\n",
      "Pclass : 0\n",
      "Name : 0\n",
      "Sex : 0\n",
      "Age : 177\n",
      "SibSp : 0\n",
      "Parch : 0\n",
      "Ticket : 0\n",
      "Fare : 0\n",
      "Cabin : 687\n",
      "Embarked : 2\n"
     ]
    }
   ],
   "source": [
    "#Check the columns that have null data in the training data\n",
    "for col in train_data.columns:\n",
    "    print(col, \":\", train_data[col].isnull().sum())"
   ]
  },
  {
   "cell_type": "code",
   "execution_count": 26,
   "metadata": {},
   "outputs": [
    {
     "name": "stdout",
     "output_type": "stream",
     "text": [
      "PassengerId : 0\n",
      "Pclass : 0\n",
      "Name : 0\n",
      "Sex : 0\n",
      "Age : 86\n",
      "SibSp : 0\n",
      "Parch : 0\n",
      "Ticket : 0\n",
      "Fare : 1\n",
      "Cabin : 327\n",
      "Embarked : 0\n"
     ]
    }
   ],
   "source": [
    "#Check the columns that have null data in the training data\n",
    "for col in test_data.columns:\n",
    "    print(col, \":\", test_data[col].isnull().sum())"
   ]
  },
  {
   "cell_type": "markdown",
   "metadata": {},
   "source": [
    "After made some explorations, the next step is data preprocessing. Recalling the first thing we do after opened the **training data**, we know that there are some columns that have missing values:\n",
    "1. There are 177 missing values (19.87%) on the Age column.\n",
    "2. There are 687 missing values (77.1%) on the Cabin column.\n",
    "3. There are 2 missing values (0.22%) on the Embarked column.\n",
    "\n",
    "Some columns that have missing values in **test data**:\n",
    "1. There are 86 missing values (20.57%) on the Age column.\n",
    "2. There is 1 missing value (0.24%) on the Fare column.\n",
    "3. There are 327 missing values (78.23%) on the Cabin column.\n",
    "\n",
    "Based on some conclusions we got before, we need to deal with some tasks:\n",
    "1. We need to convert a lot of features into numeric one, so that the machine learning algorithms can process them.\n",
    "2. We can see that the features have widely different ranges, that we will need to convert into roughly the same scale.\n",
    "3. We can also spot some more features, that contain missing values (NaN = not a number), that we need to deal with."
   ]
  },
  {
   "cell_type": "code",
   "execution_count": 27,
   "metadata": {},
   "outputs": [],
   "source": [
    "#Fill the null data in Age column\n",
    "data= [train_data, test_data]\n",
    "\n",
    "for dataset in data:\n",
    "    mean = train_data[\"Age\"].mean()\n",
    "    std = train_data[\"Age\"].std()\n",
    "    is_null = dataset[\"Age\"].isnull().sum()\n",
    "    #compute random numbers between the mean, std and is_null\n",
    "    rand_age = np.random.randint(mean - std, mean + std, size = is_null)\n",
    "    #fill NaN values in Age column with random values generated\n",
    "    age_slice = dataset[\"Age\"].copy()\n",
    "    age_slice[np.isnan(age_slice)] = rand_age\n",
    "    dataset[\"Age\"] = age_slice\n",
    "    dataset[\"Age\"] = train_data[\"Age\"].astype(int)"
   ]
  },
  {
   "cell_type": "markdown",
   "metadata": {},
   "source": [
    "To deal with the missing values in Age column, we will create an array that contains random numbers, which are computed based on the mean age value in regards to the standard deviation and is_null. All the missing values in Age column will be filled with that random numbers until everything is filled. Besides that, we also convert the data type of the Age column from float to integer."
   ]
  },
  {
   "cell_type": "code",
   "execution_count": 28,
   "metadata": {},
   "outputs": [
    {
     "data": {
      "text/plain": [
       "count     889\n",
       "unique      3\n",
       "top         S\n",
       "freq      644\n",
       "Name: Embarked, dtype: object"
      ]
     },
     "execution_count": 28,
     "metadata": {},
     "output_type": "execute_result"
    }
   ],
   "source": [
    "#Describe Embarked column\n",
    "train_data['Embarked'].describe()"
   ]
  },
  {
   "cell_type": "code",
   "execution_count": 29,
   "metadata": {},
   "outputs": [],
   "source": [
    "#Fill the null value in the Embarked column with most common value\n",
    "common_value = 'S'\n",
    "data= [train_data, test_data]\n",
    "\n",
    "for dataset in data:\n",
    "    dataset['Embarked'] = dataset['Embarked'].fillna(common_value)"
   ]
  },
  {
   "cell_type": "markdown",
   "metadata": {},
   "source": [
    "To deal with the missing values in Embarked column, we need to check how the Embarked data has been described. We know that there are 2 missing values in Embarked column, so we will fill these with the most common value, that is the \"S\" value (Southampton)."
   ]
  },
  {
   "cell_type": "code",
   "execution_count": 30,
   "metadata": {},
   "outputs": [
    {
     "data": {
      "text/plain": [
       "count        891\n",
       "unique       681\n",
       "top       347082\n",
       "freq           7\n",
       "Name: Ticket, dtype: object"
      ]
     },
     "execution_count": 30,
     "metadata": {},
     "output_type": "execute_result"
    }
   ],
   "source": [
    "#Describe Ticket column\n",
    "train_data['Ticket'].describe()"
   ]
  },
  {
   "cell_type": "code",
   "execution_count": 31,
   "metadata": {},
   "outputs": [],
   "source": [
    "#Dropping Ticket column\n",
    "train_data = train_data.drop(['Ticket'], axis=1)\n",
    "test_data = test_data.drop(['Ticket'], axis=1)"
   ]
  },
  {
   "cell_type": "markdown",
   "metadata": {},
   "source": [
    "We want to know how the Ticket data has been described. Since the Ticket attribute has 681 unique tickets, it will be a bit tricky to convert them into useful categories. So, we will drop it from the dataset."
   ]
  },
  {
   "cell_type": "code",
   "execution_count": 32,
   "metadata": {},
   "outputs": [],
   "source": [
    "#Fill the missing value in the Fare column and convert them from float to int64\n",
    "data= [train_data, test_data]\n",
    "\n",
    "for dataset in data:\n",
    "    dataset['Fare'] = dataset['Fare'].fillna(0)\n",
    "    dataset['Fare'] = dataset['Fare'].astype(int)"
   ]
  },
  {
   "cell_type": "markdown",
   "metadata": {},
   "source": [
    "We know that there is 1 missing value in the Fare column, so we will simply fill in the missing value with zero. We will convert the data type of the Fare column from float to integer too."
   ]
  },
  {
   "cell_type": "code",
   "execution_count": 33,
   "metadata": {},
   "outputs": [
    {
     "name": "stderr",
     "output_type": "stream",
     "text": [
      "C:\\Users\\alazz\\anaconda3\\lib\\site-packages\\seaborn\\categorical.py:3704: UserWarning: The `factorplot` function has been renamed to `catplot`. The original name will be removed in a future release. Please update your code. Note that the default `kind` in `factorplot` (`'point'`) has changed `'strip'` in `catplot`.\n",
      "  warnings.warn(msg)\n",
      "C:\\Users\\alazz\\anaconda3\\lib\\site-packages\\seaborn\\_decorators.py:36: FutureWarning: Pass the following variables as keyword args: x, y. From version 0.12, the only valid positional argument will be `data`, and passing other arguments without an explicit keyword will result in an error or misinterpretation.\n",
      "  warnings.warn(\n"
     ]
    },
    {
     "data": {
      "image/png": "[encoded data removed]",
      "text/plain": [
       "<Figure size 900x360 with 1 Axes>"
      ]
     },
     "metadata": {},
     "output_type": "display_data"
    }
   ],
   "source": [
    "#New features: relatives and travelled_alone\n",
    "data= [train_data, test_data]\n",
    "\n",
    "for dataset in data:\n",
    "    dataset['relatives'] = dataset['SibSp'] + dataset['Parch']\n",
    "    dataset.loc[dataset['relatives'] > 0, 'travelled_alone'] = 0\n",
    "    dataset.loc[dataset['relatives'] == 0, 'travelled_alone'] = 1\n",
    "    dataset['travelled_alone'] = dataset['travelled_alone'].astype(int)\n",
    "\n",
    "#Plot the correlation between survived and relatives\n",
    "axes = sns.factorplot('relatives','Survived', \n",
    "                      data=train_data, aspect = 2.5, );"
   ]
  },
  {
   "cell_type": "markdown",
   "metadata": {},
   "source": [
    "We know that we have Sibsp columns (sibling spouse) and Parch columns (parent-child). From these two columns, we can make new features called relatives and travelled_alone. We can find the number of the passenger's relatives by adding the Sibsp column with the Parch column. For passengers that have relatives, so they didn't travel alone. For passengers that didn't have relatives, so they did travel alone. We also convert the data type of the travelled_alone column to an integer.\n",
    "\n",
    "From the plot above, we know some facts:\n",
    "1. Having 1-3 relatives increases the chance to survive in the disaster rather than travelled alone. I think it's because having someone to take care of you during a disaster of this magnitude is of great importance. I think it's still possible to deal with the problems during a disaster when you have up to 3 relatives.\n",
    "2. Having more than 3 relatives decreases the chance to survive.\n",
    "3. Having 7 and 10 relatives made it impossible to survive in this disaster. I think it's because you will try to help your relatives even you will sacrifice your life. My other guess is maybe it's because of the position of the passenger that more relatives = lower the class (3rd class). It could be that these passengers stayed in the lower decks which flooded first or they didn't have enough time to reach the lifeboats on time."
   ]
  },
  {
   "cell_type": "code",
   "execution_count": 34,
   "metadata": {},
   "outputs": [],
   "source": [
    "#Make new column called deck that extracted from cabin column\n",
    "deck = {\"A\": 1, \"B\": 2, \"C\": 3, \"D\": 4, \"E\": 5, \"F\": 6, \"G\": 7, \"U\": 8}\n",
    "data= [train_data, test_data]\n",
    "\n",
    "for dataset in data:\n",
    "    dataset['Cabin'] = dataset['Cabin'].fillna(\"U0\")\n",
    "    dataset['Deck'] = dataset['Cabin'].map(lambda x: re.compile(\"([a-zA-Z]+)\").search(x).group())\n",
    "    dataset['Deck'] = dataset['Deck'].map(deck)\n",
    "    dataset['Deck'] = dataset['Deck'].fillna(0)\n",
    "    dataset['Deck'] = dataset['Deck'].astype(int)\n",
    "# we will drop the cabin feature\n",
    "train_data = train_data.drop(['Cabin'], axis=1)\n",
    "test_data = test_data.drop(['Cabin'], axis=1)"
   ]
  },
  {
   "cell_type": "markdown",
   "metadata": {},
   "source": [
    "First, I thought we have to drop the Cabin column because we know that we need to deal with 687 missing values. But, after I read the data, I found something interesting. A cabin number looks like ‘C123’ and the letter refers to the deck. Therefore, we’re going to extract these and create a new feature, called \"deck\", that contains a person deck. Afterwards we will convert the feature into a numeric variable (an integer). The 687 missing values will be converted to zero."
   ]
  },
  {
   "cell_type": "code",
   "execution_count": 35,
   "metadata": {},
   "outputs": [],
   "source": [
    "data = [train_data, test_data]\n",
    "titles = {\"Mr\": 1, \"Miss\": 2, \"Mrs\": 3, \"Master\": 4, \"Rare\": 5}\n",
    "\n",
    "for dataset in data:\n",
    "    # extract titles\n",
    "    dataset['Title'] = dataset.Name.str.extract(' ([A-Za-z]+)\\.', expand=False)\n",
    "    # replace titles with a more common title or as Rare\n",
    "    dataset['Title'] = dataset['Title'].replace(['Lady', 'Countess','Capt', 'Col','Don', 'Dr',\\\n",
    "                                            'Major', 'Rev', 'Sir', 'Jonkheer', 'Dona'], 'Rare')\n",
    "    dataset['Title'] = dataset['Title'].replace('Mlle', 'Miss')\n",
    "    dataset['Title'] = dataset['Title'].replace('Ms', 'Miss')\n",
    "    dataset['Title'] = dataset['Title'].replace('Mme', 'Mrs')\n",
    "    # convert titles into numbers\n",
    "    dataset['Title'] = dataset['Title'].map(titles)\n",
    "    # filling NaN with 0, to get safe\n",
    "    dataset['Title'] = dataset['Title'].fillna(0)\n",
    "train_data = train_data.drop(['Name'], axis=1)\n",
    "test_data = test_data.drop(['Name'], axis=1)"
   ]
  },
  {
   "cell_type": "markdown",
   "metadata": {},
   "source": [
    "Apart from the Cabin column, I want to drop the Name column because I think it's not an important feature. But, after I read some Kaggle Kernel, I think it's possible to use the Name column to extract the Titles from the Name, so that we can build a new feature out of that. The new feature will be called Title. This feature will be converted to an integer and passengers who didn't have titles will be filled by zero."
   ]
  },
  {
   "cell_type": "code",
   "execution_count": 36,
   "metadata": {},
   "outputs": [],
   "source": [
    "#Categorizing every age into a group\n",
    "data= [train_data, test_data]\n",
    "\n",
    "for dataset in data:\n",
    "    dataset['Age'] = dataset['Age'].astype(int)\n",
    "    dataset.loc[ dataset['Age'] <= 11, 'Age'] = 0\n",
    "    dataset.loc[(dataset['Age'] > 11) & (dataset['Age'] <= 18), 'Age'] = 1\n",
    "    dataset.loc[(dataset['Age'] > 18) & (dataset['Age'] <= 22), 'Age'] = 2\n",
    "    dataset.loc[(dataset['Age'] > 22) & (dataset['Age'] <= 27), 'Age'] = 3\n",
    "    dataset.loc[(dataset['Age'] > 27) & (dataset['Age'] <= 33), 'Age'] = 4\n",
    "    dataset.loc[(dataset['Age'] > 33) & (dataset['Age'] <= 40), 'Age'] = 5\n",
    "    dataset.loc[(dataset['Age'] > 40) & (dataset['Age'] <= 66), 'Age'] = 6\n",
    "    dataset.loc[ dataset['Age'] > 66, 'Age'] = 6"
   ]
  },
  {
   "cell_type": "markdown",
   "metadata": {},
   "source": [
    "We know that we have Age column that has widely different ranges. I think it's important to categorize the age range into some groups. Note that it is important to place attention on how you form these groups since you don’t want for example that 80% of your data fall into group 1. We will categorize the age range into 6 groups in total."
   ]
  },
  {
   "cell_type": "code",
   "execution_count": 37,
   "metadata": {},
   "outputs": [],
   "source": [
    "data = [train_data, test_data]\n",
    "\n",
    "for dataset in data:\n",
    "    dataset.loc[ dataset['Fare'] <= 7.91, 'Fare'] = 0\n",
    "    dataset.loc[(dataset['Fare'] > 7.91) & (dataset['Fare'] <= 14.454), 'Fare'] = 1\n",
    "    dataset.loc[(dataset['Fare'] > 14.454) & (dataset['Fare'] <= 31), 'Fare']   = 2\n",
    "    dataset.loc[(dataset['Fare'] > 31) & (dataset['Fare'] <= 99), 'Fare']   = 3\n",
    "    dataset.loc[(dataset['Fare'] > 99) & (dataset['Fare'] <= 250), 'Fare']   = 4\n",
    "    dataset.loc[ dataset['Fare'] > 250, 'Fare'] = 5\n",
    "    dataset['Fare'] = dataset['Fare'].astype(int)"
   ]
  },
  {
   "cell_type": "markdown",
   "metadata": {},
   "source": [
    "Same with the Age feature that has widely different ranges, we need to categorize the fare range into some groups. But it isn’t that easy, because if we cut the range of the fare values into a few equally big categories, 80% of the values would fall into the first category. We will categorize the fare range into 5 groups in total."
   ]
  },
  {
   "cell_type": "code",
   "execution_count": 38,
   "metadata": {},
   "outputs": [],
   "source": [
    "#Mapping sex column\n",
    "genders = {\"male\": 0, \"female\": 1}\n",
    "data= [train_data, test_data]\n",
    "\n",
    "for dataset in data:\n",
    "    dataset['Sex'] = dataset['Sex'].map(genders)"
   ]
  },
  {
   "cell_type": "markdown",
   "metadata": {},
   "source": [
    "Sex feature is one of the features that need to be converted to numeric one so that the machine learning algorithms can process them. We just need to map the male and female into the numeric ones."
   ]
  },
  {
   "cell_type": "code",
   "execution_count": 39,
   "metadata": {},
   "outputs": [],
   "source": [
    "#Mapping embarked column\n",
    "ports = {\"S\": 0, \"C\": 1, \"Q\": 2}\n",
    "data= [train_data, test_data]\n",
    "\n",
    "for dataset in data:\n",
    "    dataset['Embarked'] = dataset['Embarked'].map(ports)"
   ]
  },
  {
   "cell_type": "markdown",
   "metadata": {},
   "source": [
    "Same with the sex feature, we need to convert the Embarked feature to numeric so that the machine learning algorithms can process them. We just need to map the S, C, and Q into the numeric ones."
   ]
  },
  {
   "cell_type": "code",
   "execution_count": 40,
   "metadata": {},
   "outputs": [],
   "source": [
    "#Categorizing every relatives into a group\n",
    "data= [train_data, test_data]\n",
    "\n",
    "for dataset in data:\n",
    "    dataset.loc[dataset['relatives'] == 0, 'relatives'] = 0\n",
    "    dataset.loc[dataset['relatives'] >= 1, 'relatives'] = 1"
   ]
  },
  {
   "cell_type": "markdown",
   "metadata": {},
   "source": [
    "The same concept with the sex and embarked features, I will try to categorize the relatives feature into some groups. I will categorize it into 2 groups: have relatives and didn't have relatives."
   ]
  },
  {
   "cell_type": "code",
   "execution_count": 41,
   "metadata": {
    "scrolled": true
   },
   "outputs": [
    {
     "name": "stdout",
     "output_type": "stream",
     "text": [
      "PassengerId : 0\n",
      "Survived : 0\n",
      "Pclass : 0\n",
      "Sex : 0\n",
      "Age : 0\n",
      "SibSp : 0\n",
      "Parch : 0\n",
      "Fare : 0\n",
      "Embarked : 0\n",
      "relatives : 0\n",
      "travelled_alone : 0\n",
      "Deck : 0\n",
      "Title : 0\n"
     ]
    }
   ],
   "source": [
    "#Check the columns that have null data in the training data\n",
    "for col in train_data.columns:\n",
    "    print(col, \":\", train_data[col].isnull().sum())"
   ]
  },
  {
   "cell_type": "code",
   "execution_count": 42,
   "metadata": {},
   "outputs": [
    {
     "data": {
      "text/html": [
       "<div>\n",
       "<style scoped>\n",
       "    .dataframe tbody tr th:only-of-type {\n",
       "        vertical-align: middle;\n",
       "    }\n",
       "\n",
       "    .dataframe tbody tr th {\n",
       "        vertical-align: top;\n",
       "    }\n",
       "\n",
       "    .dataframe thead th {\n",
       "        text-align: right;\n",
       "    }\n",
       "</style>\n",
       "<table border=\"1\" class=\"dataframe\">\n",
       "  <thead>\n",
       "    <tr style=\"text-align: right;\">\n",
       "      <th></th>\n",
       "      <th>PassengerId</th>\n",
       "      <th>Survived</th>\n",
       "      <th>Pclass</th>\n",
       "      <th>Sex</th>\n",
       "      <th>Age</th>\n",
       "      <th>SibSp</th>\n",
       "      <th>Parch</th>\n",
       "      <th>Fare</th>\n",
       "      <th>Embarked</th>\n",
       "      <th>relatives</th>\n",
       "      <th>travelled_alone</th>\n",
       "      <th>Deck</th>\n",
       "      <th>Title</th>\n",
       "    </tr>\n",
       "  </thead>\n",
       "  <tbody>\n",
       "    <tr>\n",
       "      <th>0</th>\n",
       "      <td>1</td>\n",
       "      <td>0</td>\n",
       "      <td>3</td>\n",
       "      <td>0</td>\n",
       "      <td>2</td>\n",
       "      <td>1</td>\n",
       "      <td>0</td>\n",
       "      <td>0</td>\n",
       "      <td>0</td>\n",
       "      <td>1</td>\n",
       "      <td>0</td>\n",
       "      <td>8</td>\n",
       "      <td>1</td>\n",
       "    </tr>\n",
       "    <tr>\n",
       "      <th>1</th>\n",
       "      <td>2</td>\n",
       "      <td>1</td>\n",
       "      <td>1</td>\n",
       "      <td>1</td>\n",
       "      <td>5</td>\n",
       "      <td>1</td>\n",
       "      <td>0</td>\n",
       "      <td>3</td>\n",
       "      <td>1</td>\n",
       "      <td>1</td>\n",
       "      <td>0</td>\n",
       "      <td>3</td>\n",
       "      <td>3</td>\n",
       "    </tr>\n",
       "    <tr>\n",
       "      <th>2</th>\n",
       "      <td>3</td>\n",
       "      <td>1</td>\n",
       "      <td>3</td>\n",
       "      <td>1</td>\n",
       "      <td>3</td>\n",
       "      <td>0</td>\n",
       "      <td>0</td>\n",
       "      <td>0</td>\n",
       "      <td>0</td>\n",
       "      <td>0</td>\n",
       "      <td>1</td>\n",
       "      <td>8</td>\n",
       "      <td>2</td>\n",
       "    </tr>\n",
       "    <tr>\n",
       "      <th>3</th>\n",
       "      <td>4</td>\n",
       "      <td>1</td>\n",
       "      <td>1</td>\n",
       "      <td>1</td>\n",
       "      <td>5</td>\n",
       "      <td>1</td>\n",
       "      <td>0</td>\n",
       "      <td>3</td>\n",
       "      <td>0</td>\n",
       "      <td>1</td>\n",
       "      <td>0</td>\n",
       "      <td>3</td>\n",
       "      <td>3</td>\n",
       "    </tr>\n",
       "    <tr>\n",
       "      <th>4</th>\n",
       "      <td>5</td>\n",
       "      <td>0</td>\n",
       "      <td>3</td>\n",
       "      <td>0</td>\n",
       "      <td>5</td>\n",
       "      <td>0</td>\n",
       "      <td>0</td>\n",
       "      <td>1</td>\n",
       "      <td>0</td>\n",
       "      <td>0</td>\n",
       "      <td>1</td>\n",
       "      <td>8</td>\n",
       "      <td>1</td>\n",
       "    </tr>\n",
       "    <tr>\n",
       "      <th>...</th>\n",
       "      <td>...</td>\n",
       "      <td>...</td>\n",
       "      <td>...</td>\n",
       "      <td>...</td>\n",
       "      <td>...</td>\n",
       "      <td>...</td>\n",
       "      <td>...</td>\n",
       "      <td>...</td>\n",
       "      <td>...</td>\n",
       "      <td>...</td>\n",
       "      <td>...</td>\n",
       "      <td>...</td>\n",
       "      <td>...</td>\n",
       "    </tr>\n",
       "    <tr>\n",
       "      <th>886</th>\n",
       "      <td>887</td>\n",
       "      <td>0</td>\n",
       "      <td>2</td>\n",
       "      <td>0</td>\n",
       "      <td>3</td>\n",
       "      <td>0</td>\n",
       "      <td>0</td>\n",
       "      <td>1</td>\n",
       "      <td>0</td>\n",
       "      <td>0</td>\n",
       "      <td>1</td>\n",
       "      <td>8</td>\n",
       "      <td>5</td>\n",
       "    </tr>\n",
       "    <tr>\n",
       "      <th>887</th>\n",
       "      <td>888</td>\n",
       "      <td>1</td>\n",
       "      <td>1</td>\n",
       "      <td>1</td>\n",
       "      <td>2</td>\n",
       "      <td>0</td>\n",
       "      <td>0</td>\n",
       "      <td>2</td>\n",
       "      <td>0</td>\n",
       "      <td>0</td>\n",
       "      <td>1</td>\n",
       "      <td>2</td>\n",
       "      <td>2</td>\n",
       "    </tr>\n",
       "    <tr>\n",
       "      <th>888</th>\n",
       "      <td>889</td>\n",
       "      <td>0</td>\n",
       "      <td>3</td>\n",
       "      <td>1</td>\n",
       "      <td>3</td>\n",
       "      <td>1</td>\n",
       "      <td>2</td>\n",
       "      <td>2</td>\n",
       "      <td>0</td>\n",
       "      <td>1</td>\n",
       "      <td>0</td>\n",
       "      <td>8</td>\n",
       "      <td>2</td>\n",
       "    </tr>\n",
       "    <tr>\n",
       "      <th>889</th>\n",
       "      <td>890</td>\n",
       "      <td>1</td>\n",
       "      <td>1</td>\n",
       "      <td>0</td>\n",
       "      <td>3</td>\n",
       "      <td>0</td>\n",
       "      <td>0</td>\n",
       "      <td>2</td>\n",
       "      <td>1</td>\n",
       "      <td>0</td>\n",
       "      <td>1</td>\n",
       "      <td>3</td>\n",
       "      <td>1</td>\n",
       "    </tr>\n",
       "    <tr>\n",
       "      <th>890</th>\n",
       "      <td>891</td>\n",
       "      <td>0</td>\n",
       "      <td>3</td>\n",
       "      <td>0</td>\n",
       "      <td>4</td>\n",
       "      <td>0</td>\n",
       "      <td>0</td>\n",
       "      <td>0</td>\n",
       "      <td>2</td>\n",
       "      <td>0</td>\n",
       "      <td>1</td>\n",
       "      <td>8</td>\n",
       "      <td>1</td>\n",
       "    </tr>\n",
       "  </tbody>\n",
       "</table>\n",
       "<p>891 rows × 13 columns</p>\n",
       "</div>"
      ],
      "text/plain": [
       "     PassengerId  Survived  Pclass  Sex  Age  SibSp  Parch  Fare  Embarked  \\\n",
       "0              1         0       3    0    2      1      0     0         0   \n",
       "1              2         1       1    1    5      1      0     3         1   \n",
       "2              3         1       3    1    3      0      0     0         0   \n",
       "3              4         1       1    1    5      1      0     3         0   \n",
       "4              5         0       3    0    5      0      0     1         0   \n",
       "..           ...       ...     ...  ...  ...    ...    ...   ...       ...   \n",
       "886          887         0       2    0    3      0      0     1         0   \n",
       "887          888         1       1    1    2      0      0     2         0   \n",
       "888          889         0       3    1    3      1      2     2         0   \n",
       "889          890         1       1    0    3      0      0     2         1   \n",
       "890          891         0       3    0    4      0      0     0         2   \n",
       "\n",
       "     relatives  travelled_alone  Deck  Title  \n",
       "0            1                0     8      1  \n",
       "1            1                0     3      3  \n",
       "2            0                1     8      2  \n",
       "3            1                0     3      3  \n",
       "4            0                1     8      1  \n",
       "..         ...              ...   ...    ...  \n",
       "886          0                1     8      5  \n",
       "887          0                1     2      2  \n",
       "888          1                0     8      2  \n",
       "889          0                1     3      1  \n",
       "890          0                1     8      1  \n",
       "\n",
       "[891 rows x 13 columns]"
      ]
     },
     "execution_count": 42,
     "metadata": {},
     "output_type": "execute_result"
    }
   ],
   "source": [
    "train_data"
   ]
  },
  {
   "cell_type": "code",
   "execution_count": 43,
   "metadata": {},
   "outputs": [
    {
     "name": "stdout",
     "output_type": "stream",
     "text": [
      "PassengerId : 0\n",
      "Pclass : 0\n",
      "Sex : 0\n",
      "Age : 0\n",
      "SibSp : 0\n",
      "Parch : 0\n",
      "Fare : 0\n",
      "Embarked : 0\n",
      "relatives : 0\n",
      "travelled_alone : 0\n",
      "Deck : 0\n",
      "Title : 0\n"
     ]
    }
   ],
   "source": [
    "#Check the columns that have null data in the test data\n",
    "for col in test_data.columns: \n",
    "    print(col, \":\", test_data[col].isnull().sum())"
   ]
  },
  {
   "cell_type": "code",
   "execution_count": 44,
   "metadata": {},
   "outputs": [
    {
     "data": {
      "text/html": [
       "<div>\n",
       "<style scoped>\n",
       "    .dataframe tbody tr th:only-of-type {\n",
       "        vertical-align: middle;\n",
       "    }\n",
       "\n",
       "    .dataframe tbody tr th {\n",
       "        vertical-align: top;\n",
       "    }\n",
       "\n",
       "    .dataframe thead th {\n",
       "        text-align: right;\n",
       "    }\n",
       "</style>\n",
       "<table border=\"1\" class=\"dataframe\">\n",
       "  <thead>\n",
       "    <tr style=\"text-align: right;\">\n",
       "      <th></th>\n",
       "      <th>PassengerId</th>\n",
       "      <th>Pclass</th>\n",
       "      <th>Sex</th>\n",
       "      <th>Age</th>\n",
       "      <th>SibSp</th>\n",
       "      <th>Parch</th>\n",
       "      <th>Fare</th>\n",
       "      <th>Embarked</th>\n",
       "      <th>relatives</th>\n",
       "      <th>travelled_alone</th>\n",
       "      <th>Deck</th>\n",
       "      <th>Title</th>\n",
       "    </tr>\n",
       "  </thead>\n",
       "  <tbody>\n",
       "    <tr>\n",
       "      <th>0</th>\n",
       "      <td>892</td>\n",
       "      <td>3</td>\n",
       "      <td>0</td>\n",
       "      <td>2</td>\n",
       "      <td>0</td>\n",
       "      <td>0</td>\n",
       "      <td>0</td>\n",
       "      <td>2</td>\n",
       "      <td>0</td>\n",
       "      <td>1</td>\n",
       "      <td>8</td>\n",
       "      <td>1</td>\n",
       "    </tr>\n",
       "    <tr>\n",
       "      <th>1</th>\n",
       "      <td>893</td>\n",
       "      <td>3</td>\n",
       "      <td>1</td>\n",
       "      <td>5</td>\n",
       "      <td>1</td>\n",
       "      <td>0</td>\n",
       "      <td>0</td>\n",
       "      <td>0</td>\n",
       "      <td>1</td>\n",
       "      <td>0</td>\n",
       "      <td>8</td>\n",
       "      <td>3</td>\n",
       "    </tr>\n",
       "    <tr>\n",
       "      <th>2</th>\n",
       "      <td>894</td>\n",
       "      <td>2</td>\n",
       "      <td>0</td>\n",
       "      <td>3</td>\n",
       "      <td>0</td>\n",
       "      <td>0</td>\n",
       "      <td>1</td>\n",
       "      <td>2</td>\n",
       "      <td>0</td>\n",
       "      <td>1</td>\n",
       "      <td>8</td>\n",
       "      <td>1</td>\n",
       "    </tr>\n",
       "    <tr>\n",
       "      <th>3</th>\n",
       "      <td>895</td>\n",
       "      <td>3</td>\n",
       "      <td>0</td>\n",
       "      <td>5</td>\n",
       "      <td>0</td>\n",
       "      <td>0</td>\n",
       "      <td>1</td>\n",
       "      <td>0</td>\n",
       "      <td>0</td>\n",
       "      <td>1</td>\n",
       "      <td>8</td>\n",
       "      <td>1</td>\n",
       "    </tr>\n",
       "    <tr>\n",
       "      <th>4</th>\n",
       "      <td>896</td>\n",
       "      <td>3</td>\n",
       "      <td>1</td>\n",
       "      <td>5</td>\n",
       "      <td>1</td>\n",
       "      <td>1</td>\n",
       "      <td>1</td>\n",
       "      <td>0</td>\n",
       "      <td>1</td>\n",
       "      <td>0</td>\n",
       "      <td>8</td>\n",
       "      <td>3</td>\n",
       "    </tr>\n",
       "    <tr>\n",
       "      <th>...</th>\n",
       "      <td>...</td>\n",
       "      <td>...</td>\n",
       "      <td>...</td>\n",
       "      <td>...</td>\n",
       "      <td>...</td>\n",
       "      <td>...</td>\n",
       "      <td>...</td>\n",
       "      <td>...</td>\n",
       "      <td>...</td>\n",
       "      <td>...</td>\n",
       "      <td>...</td>\n",
       "      <td>...</td>\n",
       "    </tr>\n",
       "    <tr>\n",
       "      <th>413</th>\n",
       "      <td>1305</td>\n",
       "      <td>3</td>\n",
       "      <td>0</td>\n",
       "      <td>1</td>\n",
       "      <td>0</td>\n",
       "      <td>0</td>\n",
       "      <td>1</td>\n",
       "      <td>0</td>\n",
       "      <td>0</td>\n",
       "      <td>1</td>\n",
       "      <td>8</td>\n",
       "      <td>1</td>\n",
       "    </tr>\n",
       "    <tr>\n",
       "      <th>414</th>\n",
       "      <td>1306</td>\n",
       "      <td>1</td>\n",
       "      <td>1</td>\n",
       "      <td>6</td>\n",
       "      <td>0</td>\n",
       "      <td>0</td>\n",
       "      <td>4</td>\n",
       "      <td>1</td>\n",
       "      <td>0</td>\n",
       "      <td>1</td>\n",
       "      <td>3</td>\n",
       "      <td>5</td>\n",
       "    </tr>\n",
       "    <tr>\n",
       "      <th>415</th>\n",
       "      <td>1307</td>\n",
       "      <td>3</td>\n",
       "      <td>0</td>\n",
       "      <td>5</td>\n",
       "      <td>0</td>\n",
       "      <td>0</td>\n",
       "      <td>0</td>\n",
       "      <td>0</td>\n",
       "      <td>0</td>\n",
       "      <td>1</td>\n",
       "      <td>8</td>\n",
       "      <td>1</td>\n",
       "    </tr>\n",
       "    <tr>\n",
       "      <th>416</th>\n",
       "      <td>1308</td>\n",
       "      <td>3</td>\n",
       "      <td>0</td>\n",
       "      <td>5</td>\n",
       "      <td>0</td>\n",
       "      <td>0</td>\n",
       "      <td>1</td>\n",
       "      <td>0</td>\n",
       "      <td>0</td>\n",
       "      <td>1</td>\n",
       "      <td>8</td>\n",
       "      <td>1</td>\n",
       "    </tr>\n",
       "    <tr>\n",
       "      <th>417</th>\n",
       "      <td>1309</td>\n",
       "      <td>3</td>\n",
       "      <td>0</td>\n",
       "      <td>1</td>\n",
       "      <td>1</td>\n",
       "      <td>1</td>\n",
       "      <td>2</td>\n",
       "      <td>1</td>\n",
       "      <td>1</td>\n",
       "      <td>0</td>\n",
       "      <td>8</td>\n",
       "      <td>4</td>\n",
       "    </tr>\n",
       "  </tbody>\n",
       "</table>\n",
       "<p>418 rows × 12 columns</p>\n",
       "</div>"
      ],
      "text/plain": [
       "     PassengerId  Pclass  Sex  Age  SibSp  Parch  Fare  Embarked  relatives  \\\n",
       "0            892       3    0    2      0      0     0         2          0   \n",
       "1            893       3    1    5      1      0     0         0          1   \n",
       "2            894       2    0    3      0      0     1         2          0   \n",
       "3            895       3    0    5      0      0     1         0          0   \n",
       "4            896       3    1    5      1      1     1         0          1   \n",
       "..           ...     ...  ...  ...    ...    ...   ...       ...        ...   \n",
       "413         1305       3    0    1      0      0     1         0          0   \n",
       "414         1306       1    1    6      0      0     4         1          0   \n",
       "415         1307       3    0    5      0      0     0         0          0   \n",
       "416         1308       3    0    5      0      0     1         0          0   \n",
       "417         1309       3    0    1      1      1     2         1          1   \n",
       "\n",
       "     travelled_alone  Deck  Title  \n",
       "0                  1     8      1  \n",
       "1                  0     8      3  \n",
       "2                  1     8      1  \n",
       "3                  1     8      1  \n",
       "4                  0     8      3  \n",
       "..               ...   ...    ...  \n",
       "413                1     8      1  \n",
       "414                1     3      5  \n",
       "415                1     8      1  \n",
       "416                1     8      1  \n",
       "417                0     8      4  \n",
       "\n",
       "[418 rows x 12 columns]"
      ]
     },
     "execution_count": 44,
     "metadata": {},
     "output_type": "execute_result"
    }
   ],
   "source": [
    "#View the test data\n",
    "test_data"
   ]
  },
  {
   "cell_type": "markdown",
   "metadata": {},
   "source": [
    "The final step before building the machine learning model is that I want to confirm if any values are missing in the training data and test data. After I've checked it and I found that all the columns have values, I'm sure that the data is ready and we can move on to the next step: building a machine learning model."
   ]
  },
  {
   "cell_type": "markdown",
   "metadata": {},
   "source": [
    "## Building Machine Learning Model"
   ]
  },
  {
   "cell_type": "markdown",
   "metadata": {},
   "source": [
    "After the data is ready, now we will train several Machine Learning models and compare their results."
   ]
  },
  {
   "cell_type": "code",
   "execution_count": 45,
   "metadata": {},
   "outputs": [],
   "source": [
    "train_data = train_data.drop(['PassengerId'], axis=1)"
   ]
  },
  {
   "cell_type": "code",
   "execution_count": 46,
   "metadata": {},
   "outputs": [],
   "source": [
    "X_train = train_data.drop(\"Survived\", axis=1)\n",
    "Y_train = train_data[\"Survived\"]\n",
    "X_test  = test_data.drop(\"PassengerId\", axis=1).copy()"
   ]
  },
  {
   "cell_type": "markdown",
   "metadata": {},
   "source": [
    "The first step we need to do is to drop the PassengerId column in the training data. Then we have to drop the Survived column in the training data because we will set it as the target later. "
   ]
  },
  {
   "cell_type": "code",
   "execution_count": 47,
   "metadata": {},
   "outputs": [],
   "source": [
    "#Random Forest\n",
    "random_forest = RandomForestClassifier(n_estimators=100)\n",
    "random_forest.fit(X_train, Y_train)\n",
    "\n",
    "Y_prediction = random_forest.predict(X_test)\n",
    "\n",
    "random_forest.score(X_train, Y_train)\n",
    "acc_random_forest = round(random_forest.score(X_train, Y_train) * 100, 2)"
   ]
  },
  {
   "cell_type": "code",
   "execution_count": 48,
   "metadata": {},
   "outputs": [],
   "source": [
    "#Logistic Regression\n",
    "logreg = LogisticRegression()\n",
    "logreg.fit(X_train, Y_train)\n",
    "\n",
    "Y_pred = logreg.predict(X_test)\n",
    "\n",
    "acc_log = round(logreg.score(X_train, Y_train) * 100, 2)"
   ]
  },
  {
   "cell_type": "code",
   "execution_count": 49,
   "metadata": {},
   "outputs": [],
   "source": [
    "#KNN\n",
    "knn = KNeighborsClassifier(n_neighbors = 3)\n",
    "knn.fit(X_train, Y_train)\n",
    "\n",
    "Y_pred = knn.predict(X_test)\n",
    "\n",
    "acc_knn = round(knn.score(X_train, Y_train) * 100, 2)"
   ]
  },
  {
   "cell_type": "code",
   "execution_count": 50,
   "metadata": {},
   "outputs": [],
   "source": [
    "#Decision Tree\n",
    "decision_tree = DecisionTreeClassifier()\n",
    "decision_tree.fit(X_train, Y_train)\n",
    "\n",
    "Y_pred = decision_tree.predict(X_test)\n",
    "\n",
    "acc_decision_tree = round(decision_tree.score(X_train, Y_train) * 100, 2)"
   ]
  },
  {
   "cell_type": "markdown",
   "metadata": {},
   "source": [
    "We trained several machine learning models (Random Forest, Logistic Regression, KNN, and Decision Tree) and will compare their results to know which model performs the best."
   ]
  },
  {
   "cell_type": "code",
   "execution_count": 51,
   "metadata": {},
   "outputs": [
    {
     "data": {
      "text/html": [
       "<div>\n",
       "<style scoped>\n",
       "    .dataframe tbody tr th:only-of-type {\n",
       "        vertical-align: middle;\n",
       "    }\n",
       "\n",
       "    .dataframe tbody tr th {\n",
       "        vertical-align: top;\n",
       "    }\n",
       "\n",
       "    .dataframe thead th {\n",
       "        text-align: right;\n",
       "    }\n",
       "</style>\n",
       "<table border=\"1\" class=\"dataframe\">\n",
       "  <thead>\n",
       "    <tr style=\"text-align: right;\">\n",
       "      <th></th>\n",
       "      <th>Model</th>\n",
       "    </tr>\n",
       "    <tr>\n",
       "      <th>Score</th>\n",
       "      <th></th>\n",
       "    </tr>\n",
       "  </thead>\n",
       "  <tbody>\n",
       "    <tr>\n",
       "      <th>92.70</th>\n",
       "      <td>Random Forest</td>\n",
       "    </tr>\n",
       "    <tr>\n",
       "      <th>92.70</th>\n",
       "      <td>Decision Tree</td>\n",
       "    </tr>\n",
       "    <tr>\n",
       "      <th>88.10</th>\n",
       "      <td>KNN</td>\n",
       "    </tr>\n",
       "    <tr>\n",
       "      <th>81.37</th>\n",
       "      <td>Logistic Regression</td>\n",
       "    </tr>\n",
       "  </tbody>\n",
       "</table>\n",
       "</div>"
      ],
      "text/plain": [
       "                     Model\n",
       "Score                     \n",
       "92.70        Random Forest\n",
       "92.70        Decision Tree\n",
       "88.10                  KNN\n",
       "81.37  Logistic Regression"
      ]
     },
     "execution_count": 51,
     "metadata": {},
     "output_type": "execute_result"
    }
   ],
   "source": [
    "#Check the best model\n",
    "results = pd.DataFrame({\n",
    "    'Model': ['KNN', 'Logistic Regression', \n",
    "              'Random Forest', 'Decision Tree'],\n",
    "    'Score': [acc_knn, acc_log, acc_random_forest, acc_decision_tree]})\n",
    "result_df = results.sort_values(by='Score', ascending=False)\n",
    "result_df = result_df.set_index('Score')\n",
    "result_df.head(5)"
   ]
  },
  {
   "cell_type": "markdown",
   "metadata": {},
   "source": [
    "We have checked the model score and we can see that Random Forest and Decision Tree perform the best with the same score. The next step is we will try the Random Forest model with 10 cross-validations."
   ]
  },
  {
   "cell_type": "code",
   "execution_count": 52,
   "metadata": {},
   "outputs": [
    {
     "name": "stdout",
     "output_type": "stream",
     "text": [
      "Accuracy: \n",
      "Scores: [0.78888889 0.83146067 0.76404494 0.83146067 0.87640449 0.85393258\n",
      " 0.79775281 0.78651685 0.84269663 0.83146067]\n",
      "Mean: 0.8204619225967541\n",
      "Standard Deviation: 0.03309812652710342\n",
      "=======================================================================\n",
      "Recall: \n",
      "Scores: [0.68571429 0.70588235 0.58823529 0.85294118 0.76470588 0.79411765\n",
      " 0.67647059 0.64705882 0.85294118 0.77142857]\n",
      "Mean: 0.7339495798319327\n",
      "Standard Deviation: 0.08336049742047213\n",
      "=======================================================================\n",
      "Precision: \n",
      "Scores: [0.8        0.80645161 0.74074074 0.80555556 0.89655172 0.83870968\n",
      " 0.79310345 0.78571429 0.8        0.83870968]\n",
      "Mean: 0.810553672216631\n",
      "Standard Deviation: 0.0387828635948199\n",
      "=======================================================================\n",
      "f1 score: \n",
      "Scores: [0.6984127  0.78125    0.6557377  0.80555556 0.78125    0.80597015\n",
      " 0.6875     0.70967742 0.80597015 0.78787879]\n",
      "Mean: 0.7519202464627377\n",
      "Standard Deviation: 0.0545725018150264\n"
     ]
    }
   ],
   "source": [
    "#10 Cross Validation using Random Forest; Accuracy\n",
    "from sklearn.model_selection import cross_val_score\n",
    "\n",
    "rf = RandomForestClassifier(n_estimators=100)\n",
    "\n",
    "print(\"Accuracy: \")\n",
    "scores = cross_val_score(rf, X_train, Y_train, cv=10, scoring = \"accuracy\")\n",
    "print(\"Scores:\", scores)\n",
    "print(\"Mean:\", scores.mean())\n",
    "print(\"Standard Deviation:\", scores.std())\n",
    "\n",
    "print(\"=======================================================================\")\n",
    "\n",
    "print(\"Recall: \")\n",
    "scores = cross_val_score(rf, X_train, Y_train, cv=10, scoring = \"recall\")\n",
    "print(\"Scores:\", scores)\n",
    "print(\"Mean:\", scores.mean())\n",
    "print(\"Standard Deviation:\", scores.std())\n",
    "\n",
    "print(\"=======================================================================\")\n",
    "\n",
    "print(\"Precision: \")\n",
    "scores = cross_val_score(rf, X_train, Y_train, cv=10, scoring = \"precision\")\n",
    "print(\"Scores:\", scores)\n",
    "print(\"Mean:\", scores.mean())\n",
    "print(\"Standard Deviation:\", scores.std())\n",
    "\n",
    "print(\"=======================================================================\")\n",
    "\n",
    "print(\"f1 score: \")\n",
    "scores = cross_val_score(rf, X_train, Y_train, cv=10, scoring = \"f1\")\n",
    "print(\"Scores:\", scores)\n",
    "print(\"Mean:\", scores.mean())\n",
    "print(\"Standard Deviation:\", scores.std())"
   ]
  },
  {
   "cell_type": "markdown",
   "metadata": {},
   "source": [
    "After used 10 cross-validations, we can see the accuracy, recall, precision, and f1 score of the Random Forest model. This looks much more realistic than before because:\n",
    "1. Our model has an average accuracy of 82% with a standard deviation of 3.3%.\n",
    "2. The standard deviation shows us how precise the estimates are. This means in our case that the accuracy of our model can differ +— 3.3%."
   ]
  },
  {
   "cell_type": "code",
   "execution_count": 53,
   "metadata": {},
   "outputs": [
    {
     "data": {
      "text/html": [
       "<div>\n",
       "<style scoped>\n",
       "    .dataframe tbody tr th:only-of-type {\n",
       "        vertical-align: middle;\n",
       "    }\n",
       "\n",
       "    .dataframe tbody tr th {\n",
       "        vertical-align: top;\n",
       "    }\n",
       "\n",
       "    .dataframe thead th {\n",
       "        text-align: right;\n",
       "    }\n",
       "</style>\n",
       "<table border=\"1\" class=\"dataframe\">\n",
       "  <thead>\n",
       "    <tr style=\"text-align: right;\">\n",
       "      <th></th>\n",
       "      <th>importance</th>\n",
       "    </tr>\n",
       "    <tr>\n",
       "      <th>feature</th>\n",
       "      <th></th>\n",
       "    </tr>\n",
       "  </thead>\n",
       "  <tbody>\n",
       "    <tr>\n",
       "      <th>Title</th>\n",
       "      <td>0.227</td>\n",
       "    </tr>\n",
       "    <tr>\n",
       "      <th>Sex</th>\n",
       "      <td>0.164</td>\n",
       "    </tr>\n",
       "    <tr>\n",
       "      <th>Age</th>\n",
       "      <td>0.148</td>\n",
       "    </tr>\n",
       "    <tr>\n",
       "      <th>Fare</th>\n",
       "      <td>0.097</td>\n",
       "    </tr>\n",
       "    <tr>\n",
       "      <th>Pclass</th>\n",
       "      <td>0.092</td>\n",
       "    </tr>\n",
       "    <tr>\n",
       "      <th>Deck</th>\n",
       "      <td>0.089</td>\n",
       "    </tr>\n",
       "    <tr>\n",
       "      <th>SibSp</th>\n",
       "      <td>0.069</td>\n",
       "    </tr>\n",
       "    <tr>\n",
       "      <th>Embarked</th>\n",
       "      <td>0.051</td>\n",
       "    </tr>\n",
       "    <tr>\n",
       "      <th>Parch</th>\n",
       "      <td>0.037</td>\n",
       "    </tr>\n",
       "    <tr>\n",
       "      <th>travelled_alone</th>\n",
       "      <td>0.013</td>\n",
       "    </tr>\n",
       "    <tr>\n",
       "      <th>relatives</th>\n",
       "      <td>0.012</td>\n",
       "    </tr>\n",
       "  </tbody>\n",
       "</table>\n",
       "</div>"
      ],
      "text/plain": [
       "                 importance\n",
       "feature                    \n",
       "Title                 0.227\n",
       "Sex                   0.164\n",
       "Age                   0.148\n",
       "Fare                  0.097\n",
       "Pclass                0.092\n",
       "Deck                  0.089\n",
       "SibSp                 0.069\n",
       "Embarked              0.051\n",
       "Parch                 0.037\n",
       "travelled_alone       0.013\n",
       "relatives             0.012"
      ]
     },
     "execution_count": 53,
     "metadata": {},
     "output_type": "execute_result"
    }
   ],
   "source": [
    "#Feature Importance\n",
    "importances = pd.DataFrame({'feature':X_train.columns,'importance':np.round(random_forest.feature_importances_,3)})\n",
    "importances = importances.sort_values('importance',ascending=False).set_index('feature')\n",
    "importances.head(15)"
   ]
  },
  {
   "cell_type": "code",
   "execution_count": 54,
   "metadata": {},
   "outputs": [
    {
     "data": {
      "text/plain": [
       "Text(0.5, 1.0, 'Random Forest Classifier Mean Feature Importance Between Folds')"
      ]
     },
     "execution_count": 54,
     "metadata": {},
     "output_type": "execute_result"
    },
    {
     "data": {
      "image/png": "[encoded data removed]",
      "text/plain": [
       "<Figure size 720x360 with 1 Axes>"
      ]
     },
     "metadata": {},
     "output_type": "display_data"
    }
   ],
   "source": [
    "# print importance of each feature\n",
    "importances = pd.DataFrame({'feature':X_train.columns,'importance':np.round(random_forest.feature_importances_,3)})\n",
    "importances = importances.sort_values('importance',ascending=False).set_index('feature')\n",
    "fig, ax = plt.subplots(figsize=(10, 5))\n",
    "sns.barplot(ax=ax, x='importance', y='feature', data=importances.reset_index())\n",
    "ax.set_title('Random Forest Classifier Mean Feature Importance Between Folds', size=15)"
   ]
  },
  {
   "cell_type": "markdown",
   "metadata": {},
   "source": [
    "Besides knowing the accuracy of the model with 10 cross-validations, we can also know the feature importance of the model. We can see that title is the most important feature in this model, while relatives and travelled_alone is the less important feature in this model. From this information, we can make some changes and do some hyperparameters to build a better model with higher accuracy."
   ]
  },
  {
   "cell_type": "code",
   "execution_count": 55,
   "metadata": {},
   "outputs": [],
   "source": [
    "#Make the submission in Kaggle using Random Forest\n",
    "submission = pd.read_csv('gender_submission.csv')\n",
    "submission['Survived'] = Y_prediction\n",
    "submission.to_csv('submission_titanic.csv', index=False)"
   ]
  },
  {
   "cell_type": "code",
   "execution_count": null,
   "metadata": {},
   "outputs": [],
   "source": []
  }
 ],
 "metadata": {
  "kernelspec": {
   "display_name": "Python 3",
   "language": "python",
   "name": "python3"
  },
  "language_info": {
   "codemirror_mode": {
    "name": "ipython",
    "version": 3
   },
   "file_extension": ".py",
   "mimetype": "text/x-python",
   "name": "python",
   "nbconvert_exporter": "python",
   "pygments_lexer": "ipython3",
   "version": "3.8.5"
  }
 },
 "nbformat": 4,
 "nbformat_minor": 4
}
